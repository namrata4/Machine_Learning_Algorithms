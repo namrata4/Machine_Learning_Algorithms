{
 "cells": [
  {
   "cell_type": "markdown",
   "metadata": {},
   "source": [
    "# Implementation and Evaluation of Gradient Descent Algorithm\n",
    "## Along with Regularization\n",
    "## Namrata Deshpande\n",
    "### Feb 23, 2017\n"
   ]
  },
  {
   "cell_type": "markdown",
   "metadata": {},
   "source": [
    "---\n",
    "\n",
    "## Introduction \n",
    "We will be using the [Boston Housing Prices Data Set](http://archive.ics.uci.edu/ml/datasets/Housing) for implementing gradient descent algorithm for Linear and Logistic regression from scratch. "
   ]
  },
  {
   "cell_type": "code",
   "execution_count": 1,
   "metadata": {
    "collapsed": false
   },
   "outputs": [],
   "source": [
    "#importing libraries\n",
    "import IPython\n",
    "import numpy as np\n",
    "import scipy as sp\n",
    "import pandas as pd\n",
    "import matplotlib\n",
    "import sklearn\n",
    "\n",
    "%matplotlib inline  \n",
    "import matplotlib.pyplot as plt  \n",
    "import statsmodels.api as sm\n",
    "from sklearn.linear_model import LinearRegression\n",
    "from sklearn.metrics import mean_squared_error\n",
    "import statsmodels.formula.api as smf\n",
    "\n"
   ]
  },
  {
   "cell_type": "code",
   "execution_count": 2,
   "metadata": {
    "collapsed": true
   },
   "outputs": [],
   "source": [
    "#loading boston data from sklearn \n",
    "from sklearn.datasets import load_boston\n",
    "bdata = load_boston()"
   ]
  },
  {
   "cell_type": "markdown",
   "metadata": {},
   "source": [
    "---\n",
    "\n",
    "## Part 1: Pre Processing\n",
    "\n",
    "\n",
    "### 1.1 Use existing libraries\n",
    "\n",
    "First, let's use the linear regression version that come with Python, to make sure we understand what we're aiming to achieve.\n",
    "\n",
    "Using the same Boston housing prices dataset, we will use the [Linear Regression class](http://scikit-learn.org/stable/modules/generated/sklearn.linear_model.LinearRegression.html) from sklearn to explore the relationship between  median housing price and number of rooms per house. We will do this in two steps:\n",
    "\n",
    "(a) regressing the housing price on the number of rooms per house, and then \n",
    "\n",
    "(b) regressing the housing price on the number of rooms per house and the (number of rooms per house) squared.  "
   ]
  },
  {
   "cell_type": "code",
   "execution_count": 3,
   "metadata": {
    "collapsed": false
   },
   "outputs": [
    {
     "name": "stdout",
     "output_type": "stream",
     "text": [
      "['CRIM' 'ZN' 'INDUS' 'CHAS' 'NOX' 'RM' 'AGE' 'DIS' 'RAD' 'TAX' 'PTRATIO'\n",
      " 'B' 'LSTAT']\n"
     ]
    }
   ],
   "source": [
    "#variables in boston dataset\n",
    "print (bdata.feature_names)"
   ]
  },
  {
   "cell_type": "code",
   "execution_count": 4,
   "metadata": {
    "collapsed": false
   },
   "outputs": [],
   "source": [
    "# uncomment the following if you want to see a lengthy description of the dataset\n",
    "# print bdata.keys()\n",
    "# print bdata.feature_names\n",
    "# print bdata.data.shape\n",
    "# print bdata.target.shape\n",
    "# print bdata.DESCR\n",
    "\n",
    "# converting boston data to dataframe and setting column names\n",
    "boston_df = pd.DataFrame(bdata.data)\n",
    "boston_df.columns=bdata.feature_names\n",
    "#adding median values data to the dataframe\n",
    "boston_df['MEDV']=bdata.target\n",
    "\n",
    "\n"
   ]
  },
  {
   "cell_type": "code",
   "execution_count": 5,
   "metadata": {
    "collapsed": false
   },
   "outputs": [
    {
     "name": "stdout",
     "output_type": "stream",
     "text": [
      "Estimated Coefficients and Intercept for Linear Regression Model: \n"
     ]
    },
    {
     "data": {
      "text/html": [
       "<div>\n",
       "<table border=\"1\" class=\"dataframe\">\n",
       "  <thead>\n",
       "    <tr style=\"text-align: right;\">\n",
       "      <th></th>\n",
       "      <th>Estimated Coefficients</th>\n",
       "      <th>Variable/Measure</th>\n",
       "    </tr>\n",
       "  </thead>\n",
       "  <tbody>\n",
       "    <tr>\n",
       "      <th>0</th>\n",
       "      <td>-34.6706</td>\n",
       "      <td>Intercept</td>\n",
       "    </tr>\n",
       "    <tr>\n",
       "      <th>1</th>\n",
       "      <td>[[9.10210898118]]</td>\n",
       "      <td>RM</td>\n",
       "    </tr>\n",
       "    <tr>\n",
       "      <th>2</th>\n",
       "      <td>0.483525</td>\n",
       "      <td>R-Squared</td>\n",
       "    </tr>\n",
       "  </tbody>\n",
       "</table>\n",
       "</div>"
      ],
      "text/plain": [
       "  Estimated Coefficients Variable/Measure\n",
       "0               -34.6706        Intercept\n",
       "1      [[9.10210898118]]               RM\n",
       "2               0.483525        R-Squared"
      ]
     },
     "execution_count": 5,
     "metadata": {},
     "output_type": "execute_result"
    }
   ],
   "source": [
    "from sklearn.preprocessing import PolynomialFeatures\n",
    "from sklearn import linear_model\n",
    "#selecting only the variables required for model fitting\n",
    "df = boston_df[['RM', 'MEDV']]\n",
    "#sorting values to make graph pretty\n",
    "df = df.sort_values(by = 'RM', axis=0)\n",
    "#converting to array\n",
    "X = np.array(df['RM']).reshape(len(boston_df),1)\n",
    "y= np.array(df['MEDV']).reshape(len(boston_df),1)\n",
    "#initializing instance of Linear Regression\n",
    "lm1 = linear_model.LinearRegression()\n",
    "#fitting the model between RM and MEDV\n",
    "lm1.fit(X, y)\n",
    "\n",
    "\n",
    "#estimated coefficients\n",
    "coeff_model1 = lm1.coef_\n",
    "print('Estimated Coefficients and Intercept for Linear Regression Model: ')\n",
    "#creating dataframe with variable name and coefficients and R-squared value\n",
    "data = { 'Estimated Coefficients': [lm1.intercept_[0], lm1.coef_,lm1.score(X,y) ],\n",
    "        'Variable/Measure': ['Intercept','RM', 'R-Squared']}\n",
    "coeff = pd.DataFrame(data)\n",
    "coeff.head()\n",
    "\n",
    "\n"
   ]
  },
  {
   "cell_type": "code",
   "execution_count": 6,
   "metadata": {
    "collapsed": false
   },
   "outputs": [
    {
     "name": "stdout",
     "output_type": "stream",
     "text": [
      "Estimated Coefficients for Polynomial Regression Model: \n"
     ]
    },
    {
     "data": {
      "text/html": [
       "<div>\n",
       "<table border=\"1\" class=\"dataframe\">\n",
       "  <thead>\n",
       "    <tr style=\"text-align: right;\">\n",
       "      <th></th>\n",
       "      <th>Estimated Coefficients</th>\n",
       "      <th>Variable/Measure</th>\n",
       "    </tr>\n",
       "  </thead>\n",
       "  <tbody>\n",
       "    <tr>\n",
       "      <th>0</th>\n",
       "      <td>[66.0588474848]</td>\n",
       "      <td>Intercept</td>\n",
       "    </tr>\n",
       "    <tr>\n",
       "      <th>1</th>\n",
       "      <td>-22.6433</td>\n",
       "      <td>RM</td>\n",
       "    </tr>\n",
       "    <tr>\n",
       "      <th>2</th>\n",
       "      <td>2.47012</td>\n",
       "      <td>RM**2</td>\n",
       "    </tr>\n",
       "    <tr>\n",
       "      <th>3</th>\n",
       "      <td>0.548426</td>\n",
       "      <td>R-Squared</td>\n",
       "    </tr>\n",
       "  </tbody>\n",
       "</table>\n",
       "</div>"
      ],
      "text/plain": [
       "  Estimated Coefficients Variable/Measure\n",
       "0        [66.0588474848]        Intercept\n",
       "1               -22.6433               RM\n",
       "2                2.47012            RM**2\n",
       "3               0.548426        R-Squared"
      ]
     },
     "execution_count": 6,
     "metadata": {},
     "output_type": "execute_result"
    }
   ],
   "source": [
    "# Fitting model with degree 2\n",
    "poly = PolynomialFeatures(degree=2)\n",
    "#transforming data to include 2nd degree features\n",
    "X_= poly.fit_transform(X)\n",
    "#initializing instance of Linear model\n",
    "lm2 = linear_model.LinearRegression()\n",
    "#fitting polynomial model\n",
    "lm2.fit(X_, y)\n",
    "\n",
    "\n",
    "#estimated coefficients\n",
    "print('Estimated Coefficients for Polynomial Regression Model: ')\n",
    "#creating dataframe with variable name and coefficients and R-squared value\n",
    "data = { 'Estimated Coefficients': [lm2.intercept_, lm2.coef_[0][1],lm2.coef_[0][2],lm2.score(X_,y) ],\n",
    "        'Variable/Measure': ['Intercept','RM', 'RM**2', 'R-Squared']}\n",
    "coeff = pd.DataFrame(data)\n",
    "coeff.head()\n"
   ]
  },
  {
   "cell_type": "markdown",
   "metadata": {},
   "source": [
    "The estimated coefficient for Number of Rooms in linear regression model in the first part above, indicates towards high positive correlation between the Rooms and Median housing prices as with an estimate close to 9.0 we can say that with 1 unit increase in Number of Rooms variable, there is about 9 units increase in the Median housing prices, which is very significant. However, the low value of R-squared indicates that model could be improved further.\n",
    "\n",
    "After looking at the estimated coefficients for polynomial model with degree two, we can see that the squared value of RM variable have a positive relation with MEDV and the effect of RM is totally reversed. This tells us that the relation between the two variables is not linear. Higher degrees of RM have greater impact on MEDV."
   ]
  },
  {
   "cell_type": "markdown",
   "metadata": {},
   "source": [
    "### 1.2 Cross Validation\n",
    "\n",
    "\n",
    "Now, using the [cross-validation functions](http://scikit-learn.org/stable/modules/cross_validation.html) from scikit-learn, we will use 250-fold cross-validation to fit regression (a) above, i.e. the linear fit of housing price on number of rooms per house. Each fold of cross-validation will give us one slope coefficient and one intercept coefficient.  We will then plot the distribution of the 250 slope coefficients using a histogram."
   ]
  },
  {
   "cell_type": "code",
   "execution_count": 7,
   "metadata": {
    "collapsed": false
   },
   "outputs": [
    {
     "data": {
      "image/png": "[encoded data removed]",
      "text/plain": [
       "<matplotlib.figure.Figure at 0x21fac6040b8>"
      ]
     },
     "metadata": {},
     "output_type": "display_data"
    }
   ],
   "source": [
    "from sklearn.model_selection import KFold\n",
    "from sklearn import linear_model\n",
    "#creating instance of linear regression\n",
    "lm = linear_model.LinearRegression()\n",
    "#creating KFold iterator with 250 folds\n",
    "kf = KFold(n_splits=250)\n",
    "#creating array of explanatory variable values\n",
    "X = np.array(boston_df['RM']).reshape(len(boston_df),1)\n",
    "#dependent variable values array\n",
    "y= np.array(boston_df['MEDV']).reshape(len(boston_df),1)\n",
    "#fitting model on training data in each of the 250 folds and saving the estimated coefficient in an array\n",
    "slopes =  [lm.fit(X[train], y[train]).coef_[0][0] for train, test in kf.split(X,y)]\n",
    "\n",
    "fig = plt.figure()\n",
    "ax = fig.add_subplot(111)\n",
    "#plotting histogram of all estimated coefficients during 250 fold CV\n",
    "plt.hist(slopes ,bins = 25,  facecolor='b', edgecolor = \"none\")\n",
    "#vertical line for estimated coefficient by model 1 above\n",
    "plt.axvline(x= coeff_model1, color = 'red')\n",
    "plt.text(9.11, 170, 'coeff of model1='+ str(coeff_model1))\n",
    "#removing top and right ticks\n",
    "ax.spines[\"right\"].set_visible(False)\n",
    "ax.spines[\"top\"].set_visible(False)\n",
    "#setting labels for axes and title of graph\n",
    "plt.xlabel('Estimated Coefficients for Number of Rooms variable')\n",
    "plt.ylabel('frequency')\n",
    "fig.suptitle('Distribution of coefficients for Linear model between Median house values and number of rooms using 250 fold CV',\n",
    "             fontweight='bold', fontsize = 10)\n",
    "ax.tick_params(axis='both', direction='out') \n",
    "# remove unneeded ticks \n",
    "ax.get_xaxis().tick_bottom()  \n",
    "ax.get_yaxis().tick_left()\n",
    "\n",
    "plt.show()"
   ]
  },
  {
   "cell_type": "markdown",
   "metadata": {},
   "source": [
    "The estimated coefficients given by 250-fold CV, forms almost a normal distribution with maximum frequency near the mean as shown by the histogram above. Furthermore, the estimated coefficient of model 1 is very near to the mean of the distribution of coefficients by 250-fold CV as clear from the plot. This result is similar to that given by Central Limit Theorem."
   ]
  },
  {
   "cell_type": "markdown",
   "metadata": {},
   "source": [
    "### 1.3 Regression lines\n",
    "\n",
    "Now we will create a scatterplot of housing price on rooms per house, and add the two regression lines from 1.1. "
   ]
  },
  {
   "cell_type": "markdown",
   "metadata": {},
   "source": [
    "\n"
   ]
  },
  {
   "cell_type": "code",
   "execution_count": 8,
   "metadata": {
    "collapsed": false
   },
   "outputs": [
    {
     "data": {
      "image/png": "[encoded data removed]",
      "text/plain": [
       "<matplotlib.figure.Figure at 0x21fb1b1d2e8>"
      ]
     },
     "metadata": {},
     "output_type": "display_data"
    }
   ],
   "source": [
    "from scipy import stats\n",
    "#Explanatory and dependent variable\n",
    "X = np.array(df['RM']).reshape(len(df),1)\n",
    "y= np.array(df['MEDV']).reshape(len(df),1)\n",
    "#predictions for first model\n",
    "y_hat_1 = lm1.predict(X);\n",
    "#error for first model\n",
    "y_err_1 = y - y_hat_1\n",
    "#mean values \n",
    "mean_x = X.T[0].mean()\n",
    "#number of records\n",
    "n = len(X)\n",
    "#degree of freedom for this model\n",
    "dof = n - 1 - 1\n",
    "#t stat for 95% conf interval and given dof\n",
    "t = stats.t.ppf(1-0.025, df=dof)\n",
    "#error for model 1\n",
    "s_err_1 = np.sum(np.power(y_err_1, 2))\n",
    "#calculating 95% conf interval on fitted values\n",
    "conf_1 = t * np.sqrt((s_err_1/(n-2))*(1.0/n + (np.power((X-mean_x),2) / ((np.sum(np.power(X,2))) - n*(np.power(mean_x,2))))))\n",
    "upper_1 = y_hat_1 + abs(conf_1)\n",
    "lower_1 = y_hat_1 - abs(conf_1)\n",
    "\n",
    "#tranforming for degree 2 fit\n",
    "X_= poly.fit_transform(X)\n",
    "#predicted values for model 2\n",
    "y_hat_2 = lm2.predict(X_)\n",
    "#error for second model\n",
    "y_err_2 = y - y_hat_2\n",
    "#mean of x values\n",
    "mean_x = np.mean(X_,axis = 0)\n",
    "#number of records\n",
    "n = len(X_)\n",
    "#degree of freesom for this model\n",
    "dof = n - X_.shape[1] - 1\n",
    "#t stat for 95% conf interval and given dof\n",
    "t = stats.t.ppf(1-0.025, df=dof)\n",
    "#error for sencond model\n",
    "s_err_2 = np.sum(np.power(y_err_2, 2))\n",
    "#calculating confidence interval for fitted values\n",
    "x = X_.T\n",
    "a=[]\n",
    "#traversing on rows to find conf interval for each fitted value\n",
    "for i in range(0, x.shape[1]):\n",
    "    xp = x[:,i]\n",
    "    intvrl = np.sqrt((s_err_2/(n-2)) *np.dot(np.dot(xp.T,(np.linalg.inv(np.dot(X_.T,X_)))),xp))\n",
    "    a.append(intvrl)\n",
    "conf_2 = t * (np.array(a).reshape(len(a),1))\n",
    "upper_2 = y_hat_2 + abs(conf_2)\n",
    "lower_2 = y_hat_2 - abs(conf_2)\n",
    "\n",
    "#plotting regression lines\n",
    "fig, ax = plt.subplots(figsize=(9, 7))\n",
    "#plotting scatter plot between RM and MEDV\n",
    "ax.scatter(boston_df['RM'], boston_df['MEDV'], alpha=0.5, color='orchid', label = \"\")\n",
    "#regression line for first model\n",
    "plt.plot(X, y_hat_1, color='red',label =\"Linear Regression\", linewidth=2)\n",
    "#adding equation label\n",
    "plt.text(8, 35, '(y='+ str(lm1.intercept_[0]) +'+'+ str(coeff_model1[0][0])+\"x)\", color = 'red')\n",
    "#adding confidence interval\n",
    "ax.fill_between(X[:,0], lower_1[:,0], upper_1[:,0], color='#ffb3b3',alpha=0.4)\n",
    "#plotting line for second model\n",
    "plt.plot(X, y_hat_2, color='blue',label =\"Degree 2 Regression\", linewidth=2)\n",
    "#labelling equation for model\n",
    "plt.text(3.5, 55, '(y='+ str(lm2.intercept_[0]) +'+'+ str(lm2.coef_[0][1])+\"x + \" + str(lm2.coef_[0][2]) + \"x^2)\" , \n",
    "         color = 'blue')\n",
    "#adding confidence interval\n",
    "ax.fill_between(X[:,0], lower_2[:,0], upper_2[:,0], color='#b3d7ff', alpha=0.4)\n",
    "#setting labels for axes and title of graph\n",
    "plt.xlabel('Average number of rooms per dwelling')\n",
    "plt.ylabel('Median housing prices(in $1000s)')\n",
    "fig.suptitle('Linear Regression vs Polynomial Regression between RM and MEDV for Boston Housing data',\n",
    "             fontweight='bold', fontsize = 10)\n",
    "#removing top and right ticks\n",
    "ax.spines[\"right\"].set_visible(False)\n",
    "ax.spines[\"top\"].set_visible(False)\n",
    "ax.tick_params(axis='both', direction='out') \n",
    "# remove unneeded ticks \n",
    "ax.get_xaxis().tick_bottom()  \n",
    "ax.get_yaxis().tick_left()\n",
    "#setting location of legend\n",
    "plt.legend(loc='lower right')\n",
    "plt.show()\n",
    "\n"
   ]
  },
  {
   "cell_type": "markdown",
   "metadata": {},
   "source": [
    "## Part 2: Gradient descent: Linear Regression\n",
    "\n",
    "\n",
    "\n",
    "### 2.1 Gradient descent with one independent variable (Average rooms per house)\n",
    "\n",
    "Now we will implement the batch gradient descent algorithm then use this version to regress the housing price on the number of rooms per house. We will experiment with 3-4 different values of the learning rate *R*, and note the following:\n",
    "\n",
    "* the values of alpha and beta that minimize the loss function\n",
    "* the number of iterations it takes for the algorithm to converge (for each value of *R*)\n",
    "* the total running time of your algorithm, in seconds\n"
   ]
  },
  {
   "cell_type": "code",
   "execution_count": 9,
   "metadata": {
    "collapsed": false
   },
   "outputs": [],
   "source": [
    "import time\n",
    "\n",
    "\"\"\"\n",
    "Function\n",
    "--------\n",
    "bivariate_ols\n",
    "    Gradient Decent to minimize OLS. Used to find co-efficients of bivariate OLS Linear regression\n",
    "\n",
    "Parameters\n",
    "----------\n",
    "xvalues, yvalues : narray\n",
    "    xvalues: independent variable\n",
    "    yvalues: dependent variable\n",
    "    \n",
    "R: float\n",
    "    Learning rate\n",
    "    \n",
    "MaxIterations: Int\n",
    "    maximum number of iterations\n",
    "    \n",
    "\n",
    "Returns\n",
    "-------\n",
    "alpha: float\n",
    "    intercept\n",
    "    \n",
    "beta: float\n",
    "    co-efficient\n",
    "\n",
    "final_stats: list\n",
    "    list with final cost, final iterations and timetaken by algo\n",
    "\"\"\"\n",
    "def bivariate_ols(xvalues, yvalues, R=0.01, MaxIterations=1000):\n",
    "    # initialize the parameters\n",
    "    start_time = time.time()\n",
    "    iteration = 0\n",
    "    converge = False\n",
    "    size = xvalues.size\n",
    "    \n",
    "    \n",
    "    #choosing random initial values\n",
    "    alpha = np.random.random(1)\n",
    "    beta = np.random.random(1)\n",
    "    \n",
    "    #initial predictions\n",
    "    predictions = alpha + (beta *xvalues)\n",
    "    \n",
    "    #cost function initial\n",
    "    cost = np.sum((predictions- yvalues)**2) / (2*size)\n",
    "    \n",
    "    #iterate until convergence or max iterations\n",
    "    while ((iteration <= MaxIterations) and (converge ==False)) :\n",
    "        #gradients for the coefficients\n",
    "        a_grad = np.sum (predictions - yvalues) * (1.0/size)\n",
    "        b_grad = np.sum (np.multiply((predictions - yvalues), xvalues))* (1.0/size)\n",
    "        #new estimates by substracting learning rate * gradient\n",
    "        alpha_new = alpha - (R * a_grad)\n",
    "        beta_new = beta - (R * b_grad)\n",
    "        #new prediction\n",
    "        predictions_new = alpha_new + (beta_new *xvalues)\n",
    "        #new cost function\n",
    "        cost_new = np.sum((predictions_new - yvalues)**2) / (2*size)\n",
    "        #find if converged?\n",
    "        if abs(cost_new - cost)<= 0.0001:\n",
    "            #converged case\n",
    "            converge = True\n",
    "        \n",
    "        cost = cost_new\n",
    "        alpha = alpha_new\n",
    "        beta = beta_new\n",
    "        predictions = predictions_new\n",
    "        iteration = iteration + 1\n",
    "        \n",
    "    time_taken = str(round(time.time() - start_time,2))\n",
    "    final_stats = [cost, iteration, time_taken ]           \n",
    "    return alpha, beta, final_stats\n",
    "\n"
   ]
  },
  {
   "cell_type": "code",
   "execution_count": 10,
   "metadata": {
    "collapsed": false
   },
   "outputs": [
    {
     "name": "stdout",
     "output_type": "stream",
     "text": [
      "Bivariate batch gradient descent between RM and MEDV with R = 0.01\n",
      "Intercept  = [-26.45622983]\n",
      "Estimated coefficient = [ 7.81076508]\n",
      "Final cost  = 22.2159549642\n",
      "Number of iterations to converge 12293\n",
      "time taken  0.44 seconds\n"
     ]
    }
   ],
   "source": [
    "# example function call\n",
    "X = np.array(boston_df['RM'])\n",
    "y= np.array(boston_df['MEDV'])\n",
    "#taking learning rate as 0.01\n",
    "intercept, slope, final_stats = bivariate_ols(X, y, 0.01, 100000)\n",
    "print(\"Bivariate batch gradient descent between RM and MEDV with R = 0.01\")\n",
    "print(\"Intercept  =\", intercept)\n",
    "print(\"Estimated coefficient =\", slope)\n",
    "print(\"Final cost  =\", final_stats[0])\n",
    "print(\"Number of iterations to converge\", final_stats[1])\n",
    "print(\"time taken \", final_stats[2] + \" seconds\")"
   ]
  },
  {
   "cell_type": "code",
   "execution_count": 11,
   "metadata": {
    "collapsed": false
   },
   "outputs": [
    {
     "name": "stdout",
     "output_type": "stream",
     "text": [
      "Bivariate batch gradient descent between RM and MEDV with R = 0.05\n",
      "Intercept  = [ nan]\n",
      "Estimated coefficient = [ nan]\n",
      "Final cost  = nan\n",
      "Number of iterations to converge 100001\n",
      "time taken  3.09 seconds\n"
     ]
    }
   ],
   "source": [
    "#learning rate as 0.05\n",
    "intercept, slope, final_stats = bivariate_ols(X, y, 0.05, 100000)\n",
    "print(\"Bivariate batch gradient descent between RM and MEDV with R = 0.05\")\n",
    "print(\"Intercept  =\", intercept)\n",
    "print(\"Estimated coefficient =\", slope)\n",
    "print(\"Final cost  =\", final_stats[0])\n",
    "print(\"Number of iterations to converge\", final_stats[1])\n",
    "print(\"time taken \", final_stats[2] + \" seconds\")"
   ]
  },
  {
   "cell_type": "code",
   "execution_count": 12,
   "metadata": {
    "collapsed": false
   },
   "outputs": [
    {
     "name": "stdout",
     "output_type": "stream",
     "text": [
      "Bivariate batch gradient descent between RM and MEDV with R = 0.047\n",
      "Intercept  = [-30.88283834]\n",
      "Estimated coefficient = [ 8.50665038]\n",
      "Final cost  = 21.8886606649\n",
      "Number of iterations to converge 3974\n",
      "time taken  0.13 seconds\n"
     ]
    }
   ],
   "source": [
    "#learning rate as 0.047\n",
    "intercept, slope, final_stats = bivariate_ols(X, y, 0.047, 100000)\n",
    "print(\"Bivariate batch gradient descent between RM and MEDV with R = 0.047\")\n",
    "print(\"Intercept  =\", intercept)\n",
    "print(\"Estimated coefficient =\", slope)\n",
    "print(\"Final cost  =\", final_stats[0])\n",
    "print(\"Number of iterations to converge\", final_stats[1])\n",
    "print(\"time taken \", final_stats[2] + \" seconds\")"
   ]
  },
  {
   "cell_type": "code",
   "execution_count": 13,
   "metadata": {
    "collapsed": false
   },
   "outputs": [
    {
     "name": "stdout",
     "output_type": "stream",
     "text": [
      "Bivariate batch gradient descent between RM and MEDV with R = 0.045\n",
      "Intercept  = [-30.80013827]\n",
      "Estimated coefficient = [ 8.49364951]\n",
      "Final cost  = 21.8925622736\n",
      "Number of iterations to converge 4129\n",
      "time taken  0.14 seconds\n"
     ]
    }
   ],
   "source": [
    "#learning rate as 0.045\n",
    "intercept, slope, final_stats = bivariate_ols(X, y, 0.045, 100000)\n",
    "print(\"Bivariate batch gradient descent between RM and MEDV with R = 0.045\")\n",
    "print(\"Intercept  =\", intercept)\n",
    "print(\"Estimated coefficient =\", slope)\n",
    "print(\"Final cost  =\", final_stats[0])\n",
    "print(\"Number of iterations to converge\", final_stats[1])\n",
    "print(\"time taken \", final_stats[2] + \" seconds\")"
   ]
  },
  {
   "cell_type": "markdown",
   "metadata": {},
   "source": [
    "After trying different values of R we find that the cost is minimum at R=0.047. If we increase it then the algorithm is not converging even after max iterations of 100000 and we are getting NAN values. If we are decreasing it to 0.045 then the cost function is increasing. SO, we can say that R=0.047 gives us optimal values of the coefficients. "
   ]
  },
  {
   "cell_type": "markdown",
   "metadata": {},
   "source": [
    "### 2.2 Data normalization \n",
    "\n",
    "We should always normalize the features in order to get unbaised results. We will use the below function to standarize the features we are using."
   ]
  },
  {
   "cell_type": "code",
   "execution_count": 14,
   "metadata": {
    "collapsed": false
   },
   "outputs": [],
   "source": [
    "def standardize(raw_data):\n",
    "    return ((raw_data - np.mean(raw_data, axis = 0)) / np.std(raw_data, axis = 0))"
   ]
  },
  {
   "cell_type": "markdown",
   "metadata": {},
   "source": [
    "### 2.3 Gradient descent with an arbitrary number of independent variables\n",
    "\n",
    "Now we will create a version of gradient descent that can take more than one independent variable.  We will assume all independent variables will be continuous and test the algorithm using CRIM and RM as independent variables. Also, we will standardize these variables before before inputting them to the gradient descent algorithm. \n",
    "\n",
    "As before,  we will note the estimated coefficients, the number of iterations before convergence, and the total running time of the algorithm and experiment with 2-3 different values of R.\n"
   ]
  },
  {
   "cell_type": "code",
   "execution_count": 15,
   "metadata": {
    "collapsed": false
   },
   "outputs": [],
   "source": [
    "\"\"\"\n",
    "Function\n",
    "--------\n",
    "multivariate_ols\n",
    "    Gradient Decent to minimize OLS. Used to find co-efficients of bivariate OLS Linear regression\n",
    "\n",
    "Parameters\n",
    "----------\n",
    "xvalue_matrix, yvalues : narray\n",
    "    xvalue_matrix: independent variable\n",
    "    yvalues: dependent variable\n",
    "    \n",
    "R: float\n",
    "    Learning rate\n",
    "    \n",
    "MaxIterations: Int\n",
    "    maximum number of iterations\n",
    "    \n",
    "\n",
    "Returns\n",
    "-------\n",
    "alpha: float\n",
    "    intercept\n",
    "    \n",
    "beta_array: array[float]\n",
    "    co-efficient\n",
    "\n",
    "final_stats: list\n",
    "    list with final cost, final iterations and timetaken by algo\n",
    "\n",
    "\"\"\"\n",
    "\n",
    "def multivariate_ols(xvalue_matrix, yvalues, R=0.01, MaxIterations=1000):\n",
    "     # initialize the parameters\n",
    "    start_time = time.time()\n",
    "    iteration = 0\n",
    "    converge = False\n",
    "    size = xvalue_matrix.shape[0]\n",
    "    #inseting 1s for intercept estimation\n",
    "    xvalue_matrix = np.insert(xvalue_matrix, 0, 1, axis=1)\n",
    "    #initial random values for estimates\n",
    "    theta = np.random.random(xvalue_matrix.shape[1])\n",
    "    #initial predictions, error and cost\n",
    "    predictions = np.dot(xvalue_matrix, theta)\n",
    "    err = predictions-yvalues\n",
    "    #normalized cost function is used in this algo\n",
    "    cost = np.sum(err ** 2) / (2 * size)\n",
    "    #iterate until converge or max iterations\n",
    "    while ((iteration <= MaxIterations) and (converge ==False)):\n",
    "        #calculate gradient\n",
    "            grad = np.dot(xvalue_matrix.transpose(), err) / size     \n",
    "            #new estimates\n",
    "            theta = theta - (R * grad)\n",
    "            #new predictions, cost and error\n",
    "            predictions_new = np.dot(xvalue_matrix, theta)\n",
    "            err_new = predictions_new-yvalues\n",
    "            cost_new = np.sum(err_new ** 2) / (2 * size)\n",
    "            #check whether converged\n",
    "            if abs(cost_new - cost)<= 0.0001:\n",
    "                #converged case\n",
    "                converge = True\n",
    "        \n",
    "            cost = cost_new\n",
    "            err = err_new\n",
    "            predictions = predictions_new\n",
    "            iteration = iteration + 1\n",
    "        \n",
    "    time_taken = str(round(time.time() - start_time,2))\n",
    "    final_stats = [cost, iteration, time_taken ]\n",
    "    alpha = theta[0]\n",
    "    beta_array = theta[1: theta.size] \n",
    "    return alpha, beta_array, final_stats"
   ]
  },
  {
   "cell_type": "code",
   "execution_count": 16,
   "metadata": {
    "collapsed": false
   },
   "outputs": [
    {
     "name": "stdout",
     "output_type": "stream",
     "text": [
      "Multivariate Batch Gradient Descent between RM, CRIM and MEDV with R = 0.001\n",
      "Intercept for Model= 22.2241920587\n",
      "Estimate for RM =  5.82268747574\n",
      "Estimate for CRIM =  -2.27520767375\n",
      "Final Cost =  19.4445762379\n",
      "Number of Iterations =  4274\n",
      "Time Taken for calculation =  0.09 seconds\n"
     ]
    }
   ],
   "source": [
    "#prepare data for explanatory and dependent variable\n",
    "X = boston_df[['RM','CRIM']]\n",
    "X= np.array(standardize(X))\n",
    "y= np.array(boston_df['MEDV'])\n",
    "#taking R = 0.001\n",
    "intercept, slopes, final_stats = multivariate_ols(X, y, 0.001, 100000)\n",
    "print(\"Multivariate Batch Gradient Descent between RM, CRIM and MEDV with R = 0.001\")\n",
    "print(\"Intercept for Model=\", intercept)\n",
    "print(\"Estimate for RM = \", slopes[0])\n",
    "print(\"Estimate for CRIM = \", slopes[1])\n",
    "print(\"Final Cost = \", final_stats[0])\n",
    "print(\"Number of Iterations = \", final_stats[1])\n",
    "print(\"Time Taken for calculation = \", final_stats[2]+ \" seconds\")\n"
   ]
  },
  {
   "cell_type": "code",
   "execution_count": 17,
   "metadata": {
    "collapsed": false
   },
   "outputs": [
    {
     "name": "stdout",
     "output_type": "stream",
     "text": [
      "Multivariate Batch Gradient Descent between RM, CRIM and MEDV with R = 0.01\n",
      "Intercept for Model= 22.4364936847\n",
      "Estimate for RM =  5.8699414536\n",
      "Estimate for CRIM =  -2.26146208912\n",
      "Final Cost =  19.3993991932\n",
      "Number of Iterations =  539\n",
      "Time Taken for calculation =  0.01 seconds\n"
     ]
    }
   ],
   "source": [
    "#taking R = 0.05\n",
    "intercept, slopes, final_stats = multivariate_ols(X, y, 0.01, 100000)\n",
    "print(\"Multivariate Batch Gradient Descent between RM, CRIM and MEDV with R = 0.01\")\n",
    "print(\"Intercept for Model=\", intercept)\n",
    "print(\"Estimate for RM = \", slopes[0])\n",
    "print(\"Estimate for CRIM = \", slopes[1])\n",
    "print(\"Final Cost = \", final_stats[0])\n",
    "print(\"Number of Iterations = \", final_stats[1])\n",
    "print(\"Time Taken for calculation = \", final_stats[2]+ \" seconds\")"
   ]
  },
  {
   "cell_type": "code",
   "execution_count": 18,
   "metadata": {
    "collapsed": false
   },
   "outputs": [
    {
     "name": "stdout",
     "output_type": "stream",
     "text": [
      "Multivariate Batch Gradient Descent between RM, CRIM and MEDV with R = 0.1\n",
      "Intercept for Model= 22.5066714635\n",
      "Estimate for RM =  5.88636543901\n",
      "Estimate for CRIM =  -2.25456445217\n",
      "Final Cost =  19.394829318\n",
      "Number of Iterations =  64\n",
      "Time Taken for calculation =  0.0 seconds\n",
      "Computed RMSE= 6.22813444267\n"
     ]
    }
   ],
   "source": [
    "#taking R = 0.1\n",
    "intercept, slopes, final_stats = multivariate_ols(X, y, 0.1, 100000)\n",
    "pred = intercept + slopes[0] * X[:,0] + slopes[1] * X[:,1]\n",
    "#RMSE over remaining test set\n",
    "rmse = np.sqrt(np.mean((np.subtract(y,pred))**2))\n",
    "print(\"Multivariate Batch Gradient Descent between RM, CRIM and MEDV with R = 0.1\")\n",
    "print(\"Intercept for Model=\", intercept)\n",
    "print(\"Estimate for RM = \", slopes[0])\n",
    "print(\"Estimate for CRIM = \", slopes[1])\n",
    "print(\"Final Cost = \", final_stats[0])\n",
    "print(\"Number of Iterations = \", final_stats[1])\n",
    "print(\"Time Taken for calculation = \", final_stats[2]+ \" seconds\")\n",
    "print(\"Computed RMSE=\", rmse)"
   ]
  },
  {
   "cell_type": "markdown",
   "metadata": {},
   "source": [
    "The above observations tells us that the optimal estimates are found at R=0.1. At this value the cost function is the lowest among all the values tested above. Also, the number of iterations taken to converge as time is also the least for this value of R."
   ]
  },
  {
   "cell_type": "markdown",
   "metadata": {},
   "source": [
    "### 2.4 Comparing standardized vs. non-standardized results\n",
    "\n",
    "We will repeat the analysis from 2.3, but this time do not standardize the variables - i.e., use the original data. We will use the same three values of R (0.1, 0.01, and 0.001) and note changes in the running time and convergence properties of the algorithm?"
   ]
  },
  {
   "cell_type": "code",
   "execution_count": 19,
   "metadata": {
    "collapsed": false
   },
   "outputs": [
    {
     "name": "stdout",
     "output_type": "stream",
     "text": [
      "Multivariate Batch Gradient Descent between RM, CRIM and MEDV without standarization with R = 0.001\n",
      "Intercept for Model= -1.41033777574\n",
      "Estimate for RM =  4.06250393334\n",
      "Estimate for CRIM =  -0.35498689966\n",
      "Final Cost =  23.8573657784\n",
      "Number of Iterations =  6156\n",
      "Time Taken for calculation =  0.13 seconds\n"
     ]
    }
   ],
   "source": [
    "#data without standarization\n",
    "X = boston_df[['RM','CRIM']]\n",
    "X= np.array(X)\n",
    "\n",
    "y= np.array(boston_df['MEDV'])\n",
    "#taking R = 0.001\n",
    "intercept, slopes, final_stats =multivariate_ols(X, y, 0.001, 100000)\n",
    "print(\"Multivariate Batch Gradient Descent between RM, CRIM and MEDV without standarization with R = 0.001\")\n",
    "print(\"Intercept for Model=\", intercept)\n",
    "print(\"Estimate for RM = \", slopes[0])\n",
    "print(\"Estimate for CRIM = \", slopes[1])\n",
    "print(\"Final Cost = \", final_stats[0])\n",
    "print(\"Number of Iterations = \", final_stats[1])\n",
    "print(\"Time Taken for calculation = \", final_stats[2]+ \" seconds\")\n"
   ]
  },
  {
   "cell_type": "code",
   "execution_count": 20,
   "metadata": {
    "collapsed": false
   },
   "outputs": [
    {
     "name": "stdout",
     "output_type": "stream",
     "text": [
      "Multivariate Batch Gradient Descent between RM, CRIM and MEDV without standarization with R = 0.01\n",
      "Intercept for Model= -20.4827294487\n",
      "Estimate for RM =  7.02684114117\n",
      "Estimate for CRIM =  -0.291280381694\n",
      "Final Cost =  19.8406321539\n",
      "Number of Iterations =  10997\n",
      "Time Taken for calculation =  0.22 seconds\n"
     ]
    }
   ],
   "source": [
    "#taking R=0.01\n",
    "intercept, slopes, final_stats =multivariate_ols(X, y, 0.01, 100000)\n",
    "print(\"Multivariate Batch Gradient Descent between RM, CRIM and MEDV without standarization with R = 0.01\")\n",
    "print(\"Intercept for Model=\", intercept)\n",
    "print(\"Estimate for RM = \", slopes[0])\n",
    "print(\"Estimate for CRIM = \", slopes[1])\n",
    "print(\"Final Cost = \", final_stats[0])\n",
    "print(\"Number of Iterations = \", final_stats[1])\n",
    "print(\"Time Taken for calculation = \", final_stats[2]+ \" seconds\")"
   ]
  },
  {
   "cell_type": "code",
   "execution_count": 21,
   "metadata": {
    "collapsed": false
   },
   "outputs": [
    {
     "name": "stdout",
     "output_type": "stream",
     "text": [
      "Multivariate Batch Gradient Descent between RM, CRIM and MEDV without standarization with R = 0.1\n",
      "Intercept for Model= nan\n",
      "Estimate for RM =  nan\n",
      "Estimate for CRIM =  nan\n",
      "Final Cost =  nan\n",
      "Number of Iterations =  100001\n",
      "Time Taken for calculation =  1.98 seconds\n"
     ]
    }
   ],
   "source": [
    "#taking R=0.1\n",
    "intercept, slopes, final_stats =multivariate_ols(X, y, 0.1, 100000)\n",
    "print(\"Multivariate Batch Gradient Descent between RM, CRIM and MEDV without standarization with R = 0.1\")\n",
    "print(\"Intercept for Model=\", intercept)\n",
    "print(\"Estimate for RM = \", slopes[0])\n",
    "print(\"Estimate for CRIM = \", slopes[1])\n",
    "print(\"Final Cost = \", final_stats[0])\n",
    "print(\"Number of Iterations = \", final_stats[1])\n",
    "print(\"Time Taken for calculation = \", final_stats[2]+ \" seconds\")"
   ]
  },
  {
   "cell_type": "markdown",
   "metadata": {},
   "source": [
    "The above observations tells us that if the data is not standarized then the number of iterations taken by the algorithm has increased as compared to standarized results and with R=0.1 where we were getting the optimal results with standarized data in only 64 iterations, in non-standarize case the algo failed to converge even after max iterations of 100000. Also the running time of algorithm has also increased significantly for non-standarized data. This tells us that for batch gradient descent algorithms we should always standarize the data for optimal results with less resources."
   ]
  },
  {
   "cell_type": "markdown",
   "metadata": {},
   "source": [
    "## 3. Prediction\n",
    "\n",
    "Let's use our fitted model to make predictions about housing prices. Since the focus is now on prediction rather than the interpretation of the coefficients, it would be wise to first standardize your features before proceeding.\n",
    "\n",
    "### 3.1 Cross-Validation\n",
    "\n",
    "To avoid overfitting, we will use k-fold cross-validation to re-fit the multivariate regression from 2.3 above, and note the estimated coefficients (there should be three, corresponding to the intercept and the two coefficients for CRIM and RM)."
   ]
  },
  {
   "cell_type": "code",
   "execution_count": 22,
   "metadata": {
    "collapsed": false
   },
   "outputs": [],
   "source": [
    "#initializing k-fold iterator with folds=10 \n",
    "kf = KFold(n_splits=10, random_state=200)\n",
    "#preparing data\n",
    "X = boston_df[['RM','CRIM']]\n",
    "X= np.array(standardize(X))\n",
    "y= np.array(boston_df['MEDV'])\n",
    "\n",
    "intercepts= []\n",
    "slope_crim = []\n",
    "slope_rm = []\n",
    "for train, test in kf.split(X,y):\n",
    "    intercept, slopes, final_stats = multivariate_ols(X[train], y[train], 0.01, 100000)\n",
    "    intercepts.append(intercept)\n",
    "    slope_rm.append(slopes[0])\n",
    "    slope_crim.append(slopes[1])\n",
    "#final estimates as mean of k-fold values\n",
    "intercept = np.mean(intercepts)\n",
    "slope_crim = np.mean(slope_crim)\n",
    "slope_rm = np.mean(slope_rm)\n",
    "\n"
   ]
  },
  {
   "cell_type": "code",
   "execution_count": 23,
   "metadata": {
    "collapsed": false
   },
   "outputs": [
    {
     "name": "stdout",
     "output_type": "stream",
     "text": [
      "Estimated values by 10-fold cross validation over multivariate batch gradient descent\n",
      "Intercept=  22.4231620598\n",
      "Estimate for CRIM=  -2.27774973272\n",
      "Estimate for RM =  5.8632899614\n"
     ]
    }
   ],
   "source": [
    "#estimates\n",
    "print(\"Estimated values by 10-fold cross validation over multivariate batch gradient descent\")\n",
    "print(\"Intercept= \", intercept)\n",
    "print(\"Estimate for CRIM= \", slope_crim)\n",
    "print(\"Estimate for RM = \", slope_rm)"
   ]
  },
  {
   "cell_type": "markdown",
   "metadata": {},
   "source": [
    "The estimated values of coefficients by 10-fold CV shows slight different in what were estimated by fitting over complete data. But as these values are fitted over training sets, real evaluation of the model could be done over the remaining test sets. "
   ]
  },
  {
   "cell_type": "markdown",
   "metadata": {},
   "source": [
    "### 3.2 Predicted values and RMSE\n",
    "\n",
    "Let's figure out how accurate this predictive model turned out to be. We will compute the RMSE on our test cases, i.e. take the model parameters that we found above and compare the actual to the predicted values for just the test instances. "
   ]
  },
  {
   "cell_type": "code",
   "execution_count": 24,
   "metadata": {
    "collapsed": false
   },
   "outputs": [
    {
     "name": "stdout",
     "output_type": "stream",
     "text": [
      "Final Test RMSE for Multivariate Batch Gradient Descent by 10 fold CV =  5.77815920955\n"
     ]
    }
   ],
   "source": [
    "rmse_all = []\n",
    "for train, test in kf.split(X,y):\n",
    "    #fitting model o training set\n",
    "    intercept, slopes, final_stats = multivariate_ols(X[train], y[train], 0.01, 100000)\n",
    "    #predictions for training set\n",
    "    pred = intercept + slopes[0] * X[test][:,0] + slopes[1] * X[test][:,1]\n",
    "    #RMSE over remaining test set\n",
    "    rmse = np.sqrt(np.mean((np.subtract(y[test],pred))**2))\n",
    "    rmse_all.append(rmse)\n",
    "\n",
    "#final test RMSE as average of all RSME over all test sets\n",
    "rmse_final = np.mean(rmse_all)\n",
    "print(\"Final Test RMSE for Multivariate Batch Gradient Descent by 10 fold CV = \", rmse_final)    \n",
    "    "
   ]
  },
  {
   "cell_type": "markdown",
   "metadata": {},
   "source": [
    "The test RMSE using 10 fold CV comes to be arround 5.778. This is very low as compared to the value 9.69317142396 for the K nearest neighbor algorithm for the same variables after normalization. This means that batch gradient descent works very well for optimization of estimates for this kind of data."
   ]
  },
  {
   "cell_type": "markdown",
   "metadata": {},
   "source": [
    "# Part 4: Logistic Regression\n",
    "\n",
    "Now we will implement the logistic regression using gradient descent. For this we will create a new variable (EXPENSIVE) to indicate whether the median housing price is more than $40,000. Then perform logistic regression of EXPENSIVE on CHAS and RM. "
   ]
  },
  {
   "cell_type": "code",
   "execution_count": 25,
   "metadata": {
    "collapsed": false
   },
   "outputs": [
    {
     "data": {
      "text/html": [
       "<div>\n",
       "<table border=\"1\" class=\"dataframe\">\n",
       "  <thead>\n",
       "    <tr style=\"text-align: right;\">\n",
       "      <th></th>\n",
       "      <th>CRIM</th>\n",
       "      <th>ZN</th>\n",
       "      <th>INDUS</th>\n",
       "      <th>CHAS</th>\n",
       "      <th>NOX</th>\n",
       "      <th>RM</th>\n",
       "      <th>AGE</th>\n",
       "      <th>DIS</th>\n",
       "      <th>RAD</th>\n",
       "      <th>TAX</th>\n",
       "      <th>PTRATIO</th>\n",
       "      <th>B</th>\n",
       "      <th>LSTAT</th>\n",
       "      <th>MEDV</th>\n",
       "      <th>EXPENSIVE</th>\n",
       "    </tr>\n",
       "  </thead>\n",
       "  <tbody>\n",
       "    <tr>\n",
       "      <th>0</th>\n",
       "      <td>0.00632</td>\n",
       "      <td>18.0</td>\n",
       "      <td>2.31</td>\n",
       "      <td>0.0</td>\n",
       "      <td>0.538</td>\n",
       "      <td>6.575</td>\n",
       "      <td>65.2</td>\n",
       "      <td>4.0900</td>\n",
       "      <td>1.0</td>\n",
       "      <td>296.0</td>\n",
       "      <td>15.3</td>\n",
       "      <td>396.90</td>\n",
       "      <td>4.98</td>\n",
       "      <td>24.0</td>\n",
       "      <td>0</td>\n",
       "    </tr>\n",
       "    <tr>\n",
       "      <th>1</th>\n",
       "      <td>0.02731</td>\n",
       "      <td>0.0</td>\n",
       "      <td>7.07</td>\n",
       "      <td>0.0</td>\n",
       "      <td>0.469</td>\n",
       "      <td>6.421</td>\n",
       "      <td>78.9</td>\n",
       "      <td>4.9671</td>\n",
       "      <td>2.0</td>\n",
       "      <td>242.0</td>\n",
       "      <td>17.8</td>\n",
       "      <td>396.90</td>\n",
       "      <td>9.14</td>\n",
       "      <td>21.6</td>\n",
       "      <td>0</td>\n",
       "    </tr>\n",
       "    <tr>\n",
       "      <th>2</th>\n",
       "      <td>0.02729</td>\n",
       "      <td>0.0</td>\n",
       "      <td>7.07</td>\n",
       "      <td>0.0</td>\n",
       "      <td>0.469</td>\n",
       "      <td>7.185</td>\n",
       "      <td>61.1</td>\n",
       "      <td>4.9671</td>\n",
       "      <td>2.0</td>\n",
       "      <td>242.0</td>\n",
       "      <td>17.8</td>\n",
       "      <td>392.83</td>\n",
       "      <td>4.03</td>\n",
       "      <td>34.7</td>\n",
       "      <td>0</td>\n",
       "    </tr>\n",
       "    <tr>\n",
       "      <th>3</th>\n",
       "      <td>0.03237</td>\n",
       "      <td>0.0</td>\n",
       "      <td>2.18</td>\n",
       "      <td>0.0</td>\n",
       "      <td>0.458</td>\n",
       "      <td>6.998</td>\n",
       "      <td>45.8</td>\n",
       "      <td>6.0622</td>\n",
       "      <td>3.0</td>\n",
       "      <td>222.0</td>\n",
       "      <td>18.7</td>\n",
       "      <td>394.63</td>\n",
       "      <td>2.94</td>\n",
       "      <td>33.4</td>\n",
       "      <td>0</td>\n",
       "    </tr>\n",
       "    <tr>\n",
       "      <th>4</th>\n",
       "      <td>0.06905</td>\n",
       "      <td>0.0</td>\n",
       "      <td>2.18</td>\n",
       "      <td>0.0</td>\n",
       "      <td>0.458</td>\n",
       "      <td>7.147</td>\n",
       "      <td>54.2</td>\n",
       "      <td>6.0622</td>\n",
       "      <td>3.0</td>\n",
       "      <td>222.0</td>\n",
       "      <td>18.7</td>\n",
       "      <td>396.90</td>\n",
       "      <td>5.33</td>\n",
       "      <td>36.2</td>\n",
       "      <td>0</td>\n",
       "    </tr>\n",
       "  </tbody>\n",
       "</table>\n",
       "</div>"
      ],
      "text/plain": [
       "      CRIM    ZN  INDUS  CHAS    NOX     RM   AGE     DIS  RAD    TAX  \\\n",
       "0  0.00632  18.0   2.31   0.0  0.538  6.575  65.2  4.0900  1.0  296.0   \n",
       "1  0.02731   0.0   7.07   0.0  0.469  6.421  78.9  4.9671  2.0  242.0   \n",
       "2  0.02729   0.0   7.07   0.0  0.469  7.185  61.1  4.9671  2.0  242.0   \n",
       "3  0.03237   0.0   2.18   0.0  0.458  6.998  45.8  6.0622  3.0  222.0   \n",
       "4  0.06905   0.0   2.18   0.0  0.458  7.147  54.2  6.0622  3.0  222.0   \n",
       "\n",
       "   PTRATIO       B  LSTAT  MEDV  EXPENSIVE  \n",
       "0     15.3  396.90   4.98  24.0          0  \n",
       "1     17.8  396.90   9.14  21.6          0  \n",
       "2     17.8  392.83   4.03  34.7          0  \n",
       "3     18.7  394.63   2.94  33.4          0  \n",
       "4     18.7  396.90   5.33  36.2          0  "
      ]
     },
     "execution_count": 25,
     "metadata": {},
     "output_type": "execute_result"
    }
   ],
   "source": [
    "#creating the new variable as per the conditions\n",
    "boston_df['EXPENSIVE'] = np.where(boston_df['MEDV']>=40, 1, 0)\n",
    "boston_df.head()"
   ]
  },
  {
   "cell_type": "code",
   "execution_count": 26,
   "metadata": {
    "collapsed": true
   },
   "outputs": [],
   "source": [
    "import math\n",
    "#logistic sigmoid function for theta and x\n",
    "def sigmoid_func(theta, x):\n",
    "    return float(1) / (1 + math.e**(-x.dot(theta)))\n",
    "#logistic cost function\n",
    "def logistic_cost_func(theta, x, y):\n",
    "    h = sigmoid_func(theta,x)\n",
    "    J1 = y * np.log(h)\n",
    "    J2 = (1-y) * np.log(1 - h)\n",
    "    cost = -J1 - J2\n",
    "    return np.mean(cost)\n",
    "#gradient function\n",
    "def gradient(theta, x, y):\n",
    "    loss = sigmoid_func(theta, x) - y\n",
    "    grad = loss.T.dot(x)\n",
    "    return grad\n"
   ]
  },
  {
   "cell_type": "code",
   "execution_count": 27,
   "metadata": {
    "collapsed": true
   },
   "outputs": [],
   "source": [
    "\"\"\"\n",
    "Function\n",
    "--------\n",
    "multivariate_logistic\n",
    "    Gradient Decent to minimize logistic. Used to find co-efficients of multivariate OLS logistic regression\n",
    "\n",
    "Parameters\n",
    "----------\n",
    "xvalue_matrix, yvalues : narray\n",
    "    xvalue_matrix: independent variable\n",
    "    yvalues: dependent variable\n",
    "    \n",
    "R: float\n",
    "    Learning rate\n",
    "    \n",
    "MaxIterations: Int\n",
    "    maximum number of iterations\n",
    "    \n",
    "\n",
    "Returns\n",
    "-------\n",
    "alpha: float\n",
    "    intercept\n",
    "    \n",
    "beta_array: array[float]\n",
    "    co-efficient\n",
    "\n",
    "final_stats: list\n",
    "    list with final cost, final iterations and timetaken by algo\n",
    "\n",
    "\"\"\"\n",
    "def multivariate_logistic(xvalue_matrix, yvalues, R=0.01, MaxIterations=1000):\n",
    "    start_time = time.time()\n",
    "    iteration = 0\n",
    "    converge = False\n",
    "    size = xvalue_matrix.shape[0]\n",
    "    #inserting 1 for intercept calculation\n",
    "    xvalue_matrix = np.insert(xvalue_matrix, 0, 1, axis=1)\n",
    "    #initial random theta values\n",
    "    theta = np.random.random(xvalue_matrix.shape[1])\n",
    "    #initial cost\n",
    "    cost = logistic_cost_func(theta, xvalue_matrix, yvalues)\n",
    "    #iterate until converged or max iterations\n",
    "    while ((iteration <= MaxIterations) and (converge ==False)):\n",
    "        #calculate gradient\n",
    "        grad = gradient(theta, xvalue_matrix, yvalues)\n",
    "        #new theta values\n",
    "        theta = theta - (R * grad)\n",
    "        #new cost\n",
    "        cost_new = logistic_cost_func(theta, xvalue_matrix, yvalues)\n",
    "        #check for convergence\n",
    "        if abs(cost_new - cost)<= 0.0001:\n",
    "                #converged case\n",
    "                converge = True\n",
    "        iteration = iteration + 1\n",
    "        cost = cost_new\n",
    "        \n",
    "    time_taken = str(round(time.time() - start_time,2))\n",
    "    final_stats = [cost, iteration, time_taken ]        \n",
    "    return theta,final_stats"
   ]
  },
  {
   "cell_type": "code",
   "execution_count": 28,
   "metadata": {
    "collapsed": false
   },
   "outputs": [
    {
     "name": "stdout",
     "output_type": "stream",
     "text": [
      "Logistic Regression over Expensive, Chas and RM using Batch Gradient Descent with R = 0.01\n",
      "Intercept for Model= -4.20140712701\n",
      "Estimate for RM =  1.94005154464\n",
      "Estimate for CHAS =  0.677553180418\n",
      "Final Cost =  0.116751845091\n",
      "Number of Iterations =  31\n",
      "Time Taken for calculation =  0.0 seconds\n"
     ]
    }
   ],
   "source": [
    "#preparing data\n",
    "df = pd.DataFrame(standardize(boston_df['RM']))\n",
    "df['CHAS'] = boston_df['CHAS']\n",
    "X= np.array(df)\n",
    "y= np.array(boston_df['EXPENSIVE'])\n",
    "\n",
    "#fitting logistic regression model using gradient descent\n",
    "estimates, final_stats = multivariate_logistic(X,y,0.01,10000)\n",
    "print(\"Logistic Regression over Expensive, Chas and RM using Batch Gradient Descent with R = 0.01\")\n",
    "print(\"Intercept for Model=\", estimates[0])\n",
    "print(\"Estimate for RM = \", estimates[1])\n",
    "print(\"Estimate for CHAS = \", estimates[2])\n",
    "print(\"Final Cost = \", final_stats[0])\n",
    "print(\"Number of Iterations = \", final_stats[1])\n",
    "print(\"Time Taken for calculation = \", final_stats[2]+ \" seconds\")\n",
    "\n"
   ]
  },
  {
   "cell_type": "code",
   "execution_count": 29,
   "metadata": {
    "collapsed": false
   },
   "outputs": [
    {
     "name": "stdout",
     "output_type": "stream",
     "text": [
      "Logistic Regression using predefined functions\n",
      "Intercept for Model= [-3.86416433]\n",
      "Estimate for RM =  1.74290871633\n",
      "Estimate for CHAS =  0.726530673804\n"
     ]
    }
   ],
   "source": [
    "# checking estimates using sklearn Logistic regression\n",
    "from sklearn.linear_model import LogisticRegression\n",
    "model = LogisticRegression()\n",
    "y= np.array(boston_df['EXPENSIVE'])\n",
    "model = model.fit(X, y)\n",
    "print(\"Logistic Regression using predefined functions\")\n",
    "print(\"Intercept for Model=\", model.intercept_)\n",
    "print(\"Estimate for RM = \", model.coef_[0][0])\n",
    "print(\"Estimate for CHAS = \", model.coef_[0][1])"
   ]
  },
  {
   "cell_type": "markdown",
   "metadata": {},
   "source": [
    "The results from the above process tells us that both Number of Rooms as well as Charles river variable have positive association with probability of Median values to be greater than 40k$. We can also notice that the effect of Number of rooms is greater than that of CHAS and there is slight difference in estimates calculated using the two processes."
   ]
  },
  {
   "cell_type": "markdown",
   "metadata": {},
   "source": [
    "# Part 5: Regularization \n",
    "\n",
    "### 5.1 Get prepped\n",
    "\n",
    "Step 1: Create new interaction variables between each possible pair of the F_s features. If we originally had *K* features, we should now have *K+K^2/2* features. We will also standardize all of the features.\n",
    "\n",
    "Step 2: For simplicity, generate a single training and testing set.  Randomly sample 66% of the data and call this the training set, and set aside the remaining 34% as the test set."
   ]
  },
  {
   "cell_type": "code",
   "execution_count": 30,
   "metadata": {
    "collapsed": false
   },
   "outputs": [
    {
     "name": "stdout",
     "output_type": "stream",
     "text": [
      "(506, 105)\n"
     ]
    }
   ],
   "source": [
    "from sklearn.model_selection import train_test_split\n",
    "#preparing data\n",
    "df = boston_df.drop('MEDV', axis=1)\n",
    "X = np.array(standardize(df))\n",
    "y= np.array(boston_df['MEDV'])\n",
    "#adding interaction terms for all features\n",
    "X_t = PolynomialFeatures(2, interaction_only=True, include_bias=False).fit_transform(X)\n",
    "print(X_t.shape)\n",
    "\n",
    "#train and test split\n",
    "X_train, X_test, y_train, y_test = train_test_split(X_t, y, test_size=0.34, random_state = 200)\n"
   ]
  },
  {
   "cell_type": "markdown",
   "metadata": {},
   "source": [
    "### 5.2 Let's overfit!\n",
    "Now, using our version of multivariate regression from 2.3, let's overfit the training data. Using the training set, we will regress housing price on as many of those *K+K/2* features as we can.  \n"
   ]
  },
  {
   "cell_type": "code",
   "execution_count": 31,
   "metadata": {
    "collapsed": false
   },
   "outputs": [],
   "source": [
    "#function for computing RMSE from predictions and y values\n",
    "def compute_rmse(predictions, yvalues):\n",
    "    #applying formula= RMSE = sqrt(mean((y-yhat)^2)\n",
    "    rmse = np.sqrt(np.mean((np.subtract(yvalues,predictions))**2))\n",
    "    return rmse"
   ]
  },
  {
   "cell_type": "code",
   "execution_count": 32,
   "metadata": {
    "collapsed": false
   },
   "outputs": [
    {
     "name": "stdout",
     "output_type": "stream",
     "text": [
      "Training RMSE for model with 5 features= 6.82121163094\n",
      "Test RMSE for model with 5 features= 8.75665726321\n",
      "Number of Iterations =  4484\n",
      "Time Taken for calculation =  0.09 seconds\n"
     ]
    }
   ],
   "source": [
    "# with CRIM, ZN, INDUS, CHAS, NOX\n",
    "xvalues = X_train[:,:5]\n",
    "intercept, slopes, final_stats = multivariate_ols(xvalues, y_train, 0.001, 100000)\n",
    "#predictions\n",
    "pred_train = intercept + np.sum(slopes*X_train[:,:5], axis=1)\n",
    "pred = intercept + np.sum(slopes*X_test[:,:5], axis=1)\n",
    "#calculating RMSE\n",
    "rmse_train = compute_rmse(pred_train, y_train)\n",
    "rmse = compute_rmse(pred, y_test)\n",
    "print(\"Training RMSE for model with 5 features=\", rmse_train)\n",
    "print(\"Test RMSE for model with 5 features=\", rmse)\n",
    "print(\"Number of Iterations = \", final_stats[1])\n",
    "print(\"Time Taken for calculation = \", final_stats[2]+ \" seconds\")\n"
   ]
  },
  {
   "cell_type": "code",
   "execution_count": 33,
   "metadata": {
    "collapsed": false
   },
   "outputs": [
    {
     "name": "stdout",
     "output_type": "stream",
     "text": [
      "Training RMSE for model with 13 features= 4.50553113741\n",
      "Test RMSE for model with 13 features= 5.40541708527\n",
      "Number of Iterations =  5098\n",
      "Time Taken for calculation =  0.11 seconds\n"
     ]
    }
   ],
   "source": [
    "#with all features but no interaction term\n",
    "xvalues = X_train[:,:13]\n",
    "intercept, slopes, final_stats = multivariate_ols(xvalues, y_train, 0.001, 100000)\n",
    "pred = intercept + np.sum(slopes*X_test[:,:13], axis=1)\n",
    "rmse = compute_rmse(pred, y_test)\n",
    "pred_train = intercept + np.sum(slopes*X_train[:,:13], axis=1)\n",
    "rmse_train = compute_rmse(pred_train, y_train)\n",
    "print(\"Training RMSE for model with 13 features=\", rmse_train)\n",
    "print(\"Test RMSE for model with 13 features=\", rmse)\n",
    "print(\"Number of Iterations = \", final_stats[1])\n",
    "print(\"Time Taken for calculation = \", final_stats[2]+ \" seconds\")"
   ]
  },
  {
   "cell_type": "code",
   "execution_count": 34,
   "metadata": {
    "collapsed": false
   },
   "outputs": [
    {
     "name": "stdout",
     "output_type": "stream",
     "text": [
      "Training RMSE for model with all features and 5 interaction terms= 3.47748065097\n",
      "Test RMSE for model with all features and 5 interaction terms= 3.70492069171\n",
      "Number of Iterations =  7167\n",
      "Time Taken for calculation =  0.16 seconds\n"
     ]
    }
   ],
   "source": [
    "#with all features and 5 interaction terms\n",
    "xvalues = X_train[:,:18]\n",
    "intercept, slopes, final_stats = multivariate_ols(xvalues, y_train, 0.001, 100000)\n",
    "pred = intercept + np.sum(slopes*X_test[:,:18], axis=1)\n",
    "rmse = compute_rmse(pred, y_test)\n",
    "pred_train = intercept + np.sum(slopes*X_train[:,:18], axis=1)\n",
    "rmse_train = compute_rmse(pred_train, y_train)\n",
    "print(\"Training RMSE for model with all features and 5 interaction terms=\", rmse_train)\n",
    "print(\"Test RMSE for model with all features and 5 interaction terms=\", rmse)\n",
    "print(\"Number of Iterations = \", final_stats[1])\n",
    "print(\"Time Taken for calculation = \", final_stats[2]+ \" seconds\")\n"
   ]
  },
  {
   "cell_type": "code",
   "execution_count": 35,
   "metadata": {
    "collapsed": false
   },
   "outputs": [
    {
     "name": "stdout",
     "output_type": "stream",
     "text": [
      "Training RMSE for model with all features and 10 interaction terms= 3.26813683542\n",
      "Test RMSE for model with all features and 10 interaction terms= 3.9481597247\n",
      "Number of Iterations =  6934\n",
      "Time Taken for calculation =  0.16 seconds\n"
     ]
    }
   ],
   "source": [
    "#with all features and 10 interaction terms\n",
    "xvalues = X_train[:,:23]\n",
    "intercept, slopes, final_stats = multivariate_ols(xvalues, y_train, 0.001, 100000)\n",
    "pred = intercept + np.sum(slopes*X_test[:,:23], axis=1)\n",
    "rmse = compute_rmse(pred, y_test)\n",
    "pred_train = intercept + np.sum(slopes*X_train[:,:23], axis=1)\n",
    "rmse_train = compute_rmse(pred_train, y_train)\n",
    "print(\"Training RMSE for model with all features and 10 interaction terms=\", rmse_train)\n",
    "print(\"Test RMSE for model with all features and 10 interaction terms=\", rmse)\n",
    "print(\"Number of Iterations = \", final_stats[1])\n",
    "print(\"Time Taken for calculation = \", final_stats[2]+ \" seconds\")"
   ]
  },
  {
   "cell_type": "markdown",
   "metadata": {},
   "source": [
    "From all the examples above we can see that training RMSE is lesser than the test RMSE in all cases. This might be because as we are adding more and more features to the model we are moving closer to overfitting the model on the training data. As we are increasing the feature the number of iterations and time taken by algorithm are increasing but the RMSE for train as well as test are decresing significantly. The final value of test RMSE in the last example that we got of 3.991 is very lower than the value we got previously of 5.77 with only two features(CRIM and RM) .This might either mean that the model is very effective or else we are overfitting it to the avialable data and hence increasing variance."
   ]
  },
  {
   "cell_type": "markdown",
   "metadata": {},
   "source": [
    "### 5.3 Ridge regularization\n",
    "Now we will incorporate L2 (Ridge) regularization into our multivariate_ols regression. We will write a new version of our gradient descent algorithm that includes a regularization term \"lambda\" to penalize excessive complexity. \n",
    "\n",
    "We will use our regularized regression to re-fit the model from 3.2 above on the training data and try this for several different values of lambda, and note the RMSE for each lambda separately for the training and testing data. "
   ]
  },
  {
   "cell_type": "code",
   "execution_count": 36,
   "metadata": {
    "collapsed": false
   },
   "outputs": [],
   "source": [
    "\"\"\"\n",
    "Function\n",
    "--------\n",
    "multivariate_ridge\n",
    "    Gradient Decent to minimize ridge regression. \n",
    "    Used to find co-efficients of multivariate ridge regression\n",
    "\n",
    "Parameters\n",
    "----------\n",
    "xvalue_matrix, yvalues : narray\n",
    "    xvalue_matrix: independent variable\n",
    "    yvalues: dependent variable\n",
    "    \n",
    "R: float\n",
    "    Learning rate\n",
    "    \n",
    "MaxIterations: Int\n",
    "    maximum number of iterations\n",
    "    \n",
    "l : float\n",
    "    hyperparameter for ridge regression\n",
    "    \n",
    "\n",
    "Returns\n",
    "-------\n",
    "alpha: float\n",
    "    intercept\n",
    "    \n",
    "beta_array: array[float]\n",
    "    co-efficient\n",
    "\n",
    "final_stats: list\n",
    "    list with final cost, final iterations and timetaken by algo\n",
    "\"\"\"\n",
    "\n",
    "def multivariate_ridge(xvalue_matrix, yvalues, R=0.01, MaxIterations=1000, l=100):\n",
    "     # initialize the parameters\n",
    "    start_time = time.time()\n",
    "    iteration = 0\n",
    "    converge = False\n",
    "    size = xvalue_matrix.shape[0]\n",
    "    #initial random values for theta\n",
    "    #theta does not include intercept\n",
    "    theta = np.random.random(xvalue_matrix.shape[1])\n",
    "    #initial predictions, error and cost\n",
    "    predictions = np.dot(xvalue_matrix, theta)\n",
    "    err = predictions-yvalues\n",
    "    cost = np.sum(err ** 2) / (2 * size)\n",
    "    #iterate till converged or max iteration\n",
    "    while ((iteration <= MaxIterations) and (converge ==False)):\n",
    "            ols_grad = np.dot(xvalue_matrix.transpose(), err) / size \n",
    "            #adding penalty term to OLS grad\n",
    "            ridge_grad = ols_grad + (l/size)*theta\n",
    "            #new theta\n",
    "            theta = theta - (R * ridge_grad)\n",
    "            #new predictions, error and cost\n",
    "            predictions_new = np.dot(xvalue_matrix, theta)\n",
    "            err_new = predictions_new-yvalues\n",
    "            cost_new = np.sum(err_new ** 2) / (2 * size)\n",
    "            #check for convergence\n",
    "            if abs(cost_new - cost)<= 0.0001:\n",
    "                #converged case\n",
    "                converge = True\n",
    "        \n",
    "            cost = cost_new\n",
    "            err = err_new\n",
    "            predictions = predictions_new\n",
    "            iteration = iteration + 1\n",
    "        \n",
    "    time_taken = str(round(time.time() - start_time,2))\n",
    "    final_stats = [cost, iteration, time_taken ] \n",
    "    #the estimation of intercept is the mean of yvalues\n",
    "    #as we do notprefer not to penalize the intercept in ridge regression\n",
    "    alpha = np.mean(yvalues)\n",
    "    beta_array = theta\n",
    "    return alpha, beta_array, final_stats"
   ]
  },
  {
   "cell_type": "code",
   "execution_count": 37,
   "metadata": {
    "collapsed": false
   },
   "outputs": [
    {
     "name": "stdout",
     "output_type": "stream",
     "text": [
      "Training RMSE for regularised model with 13 features and lambda=10=  4.90122315707\n",
      "Test RMSE for regularised model with 13 features and lambda=10 =  5.62035359914\n",
      "Number of Iterations =  8465\n",
      "Time Taken for calculation =  1.03 seconds\n"
     ]
    }
   ],
   "source": [
    "#model with all features using ridge algo\n",
    "xvalues = X_train[:,:13]\n",
    "intercept, slopes, final_stats = multivariate_ridge(xvalues, y_train, 0.001, 100000, 10)\n",
    "pred_training = intercept + np.sum(slopes*X_train[:,:13], axis=1)\n",
    "rmse_training = compute_rmse(pred_training, y_train)\n",
    "pred_test = intercept + np.sum(slopes*X_test[:,:13], axis=1)\n",
    "rmse_test = compute_rmse(pred_test, y_test)\n",
    "print(\"Training RMSE for regularised model with 13 features and lambda=10= \", rmse_training)\n",
    "print(\"Test RMSE for regularised model with 13 features and lambda=10 = \", rmse_test)\n",
    "print(\"Number of Iterations = \", final_stats[1])\n",
    "print(\"Time Taken for calculation = \", final_stats[2]+ \" seconds\")"
   ]
  },
  {
   "cell_type": "code",
   "execution_count": 38,
   "metadata": {
    "collapsed": false
   },
   "outputs": [
    {
     "name": "stdout",
     "output_type": "stream",
     "text": [
      "Training RMSE for regularised model with 13 features and lambda=30 =  4.7917361966\n",
      "Test RMSE for regularised model with 13 features and lambda=30 =  5.53524383451\n",
      "Number of Iterations =  7857\n",
      "Time Taken for calculation =  0.94 seconds\n"
     ]
    }
   ],
   "source": [
    "#with all features but no interaction term and lambda=30\n",
    "xvalues = X_train[:,:13]\n",
    "intercept, slopes, final_stats = multivariate_ridge(xvalues, y_train, 0.001, 100000, 30)\n",
    "pred_training = intercept + np.sum(slopes*X_train[:,:13], axis=1)\n",
    "rmse_training = compute_rmse(pred_training, y_train)\n",
    "pred_test = intercept + np.sum(slopes*X_test[:,:13], axis=1)\n",
    "rmse_test = compute_rmse(pred_test, y_test)\n",
    "print(\"Training RMSE for regularised model with 13 features and lambda=30 = \", rmse_training)\n",
    "print(\"Test RMSE for regularised model with 13 features and lambda=30 = \", rmse_test)\n",
    "print(\"Number of Iterations = \", final_stats[1])\n",
    "print(\"Time Taken for calculation = \", final_stats[2]+ \" seconds\")"
   ]
  },
  {
   "cell_type": "code",
   "execution_count": 39,
   "metadata": {
    "collapsed": false
   },
   "outputs": [
    {
     "name": "stdout",
     "output_type": "stream",
     "text": [
      "Training RMSE for regularised model with 13 features and lambda=50 =  4.73792619013\n",
      "Test RMSE for regularised model with 13 features and lambda=50 =  5.51100437916\n",
      "Number of Iterations =  7216\n",
      "Time Taken for calculation =  0.86 seconds\n"
     ]
    }
   ],
   "source": [
    "#with all features but no interaction term and lambda=50\n",
    "intercept, slopes, final_stats = multivariate_ridge(xvalues, y_train, 0.001, 100000, 50)\n",
    "pred_training = intercept + np.sum(slopes*X_train[:,:13], axis=1)\n",
    "rmse_training = compute_rmse(pred_training, y_train)\n",
    "pred_test = intercept + np.sum(slopes*X_test[:,:13], axis=1)\n",
    "rmse_test = compute_rmse(pred_test, y_test)\n",
    "print(\"Training RMSE for regularised model with 13 features and lambda=50 = \", rmse_training)\n",
    "print(\"Test RMSE for regularised model with 13 features and lambda=50 = \", rmse_test)\n",
    "print(\"Number of Iterations = \", final_stats[1])\n",
    "print(\"Time Taken for calculation = \", final_stats[2]+ \" seconds\")"
   ]
  },
  {
   "cell_type": "code",
   "execution_count": 40,
   "metadata": {
    "collapsed": false
   },
   "outputs": [
    {
     "name": "stdout",
     "output_type": "stream",
     "text": [
      "Training RMSE for regularised model with CRIM and RM features and lambda=50 =  5.98487435691\n",
      "Test RMSE for regularised model with CRIM and RM and lambda=50 =  6.91423498885\n",
      "Number of Iterations =  3171\n",
      "Time Taken for calculation =  0.21 seconds\n"
     ]
    }
   ],
   "source": [
    "#with CRIM and RM similar to 2.3 and lambda=50\n",
    "xvalues = X_train[:,[0,5]]\n",
    "intercept, slopes, final_stats = multivariate_ridge(xvalues, y_train, 0.001, 100000, 30)\n",
    "pred_training = intercept + np.sum(slopes*X_train[:,[0,5]], axis=1)\n",
    "rmse_training = compute_rmse(pred_training, y_train)\n",
    "pred_test = intercept + np.sum(slopes*X_test[:,[0,5]], axis=1)\n",
    "rmse_test = compute_rmse(pred_test, y_test)\n",
    "print(\"Training RMSE for regularised model with CRIM and RM features and lambda=50 = \", rmse_training)\n",
    "print(\"Test RMSE for regularised model with CRIM and RM and lambda=50 = \", rmse_test)\n",
    "print(\"Number of Iterations = \", final_stats[1])\n",
    "print(\"Time Taken for calculation = \", final_stats[2]+ \" seconds\")"
   ]
  },
  {
   "cell_type": "markdown",
   "metadata": {},
   "source": [
    "As seen from all examples above the test RMSE is greater than the train RMSE for all values of lambda. The most optimal values that we recieve from the above examples were with lambda=50, but it can be optmized more using further analysis. If we compare the results with two features of CRIM and RM with 2.3 above then we find that the RMSE here of 6.915 is lesser than that of 2.3 of 8.62500811713. So, the model is definitely improving. If we compare the model with all 13 features with 4.2 above then we find that we find almost similar values of 5.5 for both. If we try to optmize the values of lambda more then the value could be decreased further for this model while no such thing could be done for previous model. Also, the low RMSE of previous model may also be due to overfitting. So, with more features in order to prevent overfitting, the ridge model is better."
   ]
  },
  {
   "cell_type": "markdown",
   "metadata": {},
   "source": [
    "### 5.4: Cross-validate lambda\n",
    "\n",
    "We will use k-fold cross-validation to select the optimal value of lambda. Note the average RMSE across all training sets, and the average RMSE across all testing sets."
   ]
  },
  {
   "cell_type": "code",
   "execution_count": 41,
   "metadata": {
    "collapsed": false
   },
   "outputs": [],
   "source": [
    "#prepping data\n",
    "X = boston_df.drop(['MEDV','EXPENSIVE'], axis = 1)\n",
    "X= np.array(standardize(X))\n",
    "y= np.array(boston_df['MEDV'])\n",
    "#10 fold CV\n",
    "kf = KFold(n_splits=10, random_state=200, shuffle=True)\n",
    "#values of lambda to be tested\n",
    "lambdas=np.linspace(1,100,100)\n",
    "rmse_training_all = []\n",
    "rmse_test_all = []\n",
    "#calculating RMSE using k-fold CV for all values of lambdas\n",
    "for i in lambdas:\n",
    "    rmse_training = []\n",
    "    rmse_test = []\n",
    "    for train, test in kf.split(X,y):\n",
    "        intercept, slopes, final_stats = multivariate_ridge(X[train], y[train], 0.01, 100000,i)\n",
    "        pred_training = intercept + np.sum(slopes*X[train,:13], axis=1)\n",
    "        rmse_train = compute_rmse(pred_training, y[train])\n",
    "        pred_test = intercept + np.sum(slopes*X[test,:13], axis=1)\n",
    "        rmse_tst = compute_rmse(pred_test, y[test])\n",
    "        rmse_training.append(rmse_train)\n",
    "        rmse_test.append(rmse_tst)\n",
    "    rmse_training_all.append(np.mean(rmse_training))\n",
    "    rmse_test_all.append(np.mean(rmse_test))"
   ]
  },
  {
   "cell_type": "code",
   "execution_count": 42,
   "metadata": {
    "collapsed": false
   },
   "outputs": [
    {
     "data": {
      "image/png": "[encoded data removed]",
      "text/plain": [
       "<matplotlib.figure.Figure at 0x21fb1affc50>"
      ]
     },
     "metadata": {},
     "output_type": "display_data"
    }
   ],
   "source": [
    "fig, ax = plt.subplots(figsize=(8, 5))\n",
    "plt.scatter(lambdas, rmse_training_all, color='red', label=\"Training RMSE\", alpha=0.4)\n",
    "plt.scatter(lambdas, rmse_test_all, color='blue', label=\"Test RMSE\", alpha=0.4)\n",
    "plt.xlabel(\"Values of lambdas for Ridge Regression\")\n",
    "plt.ylabel(\"Values of Root Mean Square Error\")\n",
    "fig.suptitle('Relation between Train and Test RMSE for different values of lambda for Ridge Regression',\n",
    "             fontweight='bold', fontsize = 10)\n",
    "#removing top and right ticks\n",
    "ax.spines[\"right\"].set_visible(False)\n",
    "ax.spines[\"top\"].set_visible(False)\n",
    "ax.tick_params(axis='both', direction='out') \n",
    "# remove unneeded ticks \n",
    "ax.get_xaxis().tick_bottom()  \n",
    "ax.get_yaxis().tick_left()\n",
    "#setting location of legend\n",
    "plt.legend(loc='lower right')\n",
    "plt.show()\n"
   ]
  },
  {
   "cell_type": "markdown",
   "metadata": {},
   "source": [
    "The results show two things: first that the values of Test RMSE are always higher than Training RMSE which was expected. Second, we can see that test RMSE decreases for increasing values of lambda until a minima is reached then it starts increasing. In this case the minima is when lambda is between 30-40. "
   ]
  },
  {
   "cell_type": "markdown",
   "metadata": {},
   "source": [
    "### 5.5 Lambda and coefficients\n",
    "\n",
    "We will also create a parameter plot that shows how the different coefficient estimates change as a function of lambda. "
   ]
  },
  {
   "cell_type": "code",
   "execution_count": 43,
   "metadata": {
    "collapsed": false
   },
   "outputs": [],
   "source": [
    "lambdas=np.linspace(1,100,100)\n",
    "X = boston_df.drop(['MEDV','EXPENSIVE'], axis = 1)\n",
    "X= np.array(standardize(X))\n",
    "#X = np.array(boston_df['RM']).reshape(len(boston_df),1)\n",
    "y= np.array(boston_df['MEDV'])\n",
    "X_slopes = np.empty([len(lambdas),13], dtype=float, order='C')\n",
    "for i in lambdas:\n",
    "    intercept, slopes, final_stats = multivariate_ridge(X, y, 0.01, 100000,i)\n",
    "    X_slopes= np.insert(X_slopes, 0, slopes,0)\n",
    "X_slopes= X_slopes[:len(lambdas),:]"
   ]
  },
  {
   "cell_type": "code",
   "execution_count": 44,
   "metadata": {
    "collapsed": false
   },
   "outputs": [
    {
     "data": {
      "text/plain": [
       "(13,)"
      ]
     },
     "execution_count": 44,
     "metadata": {},
     "output_type": "execute_result"
    }
   ],
   "source": [
    "labels = np.array(boston_df.drop(['MEDV','EXPENSIVE'], axis = 1).columns)\n",
    "labels.shape"
   ]
  },
  {
   "cell_type": "code",
   "execution_count": 45,
   "metadata": {
    "collapsed": false
   },
   "outputs": [
    {
     "data": {
      "image/png": "[encoded data removed]",
      "text/plain": [
       "<matplotlib.figure.Figure at 0x21fb1af5a58>"
      ]
     },
     "metadata": {},
     "output_type": "display_data"
    }
   ],
   "source": [
    "\n",
    "fig, ax = plt.subplots(figsize=(8, 5))\n",
    "\n",
    "for i in range(0,X_slopes.shape[1]):\n",
    "    plt.plot(lambdas, X_slopes[:,i],linewidth=2,label=labels[i] )\n",
    "plt.xlabel(\"Values of lambdas for Ridge Regression\")\n",
    "plt.ylabel(\"Values of Extimates of coefficients\")\n",
    "fig.suptitle('Relation between coefficients for different values of lambda for Ridge Regression',\n",
    "             fontweight='bold', fontsize = 10)\n",
    "#removing top and right ticks\n",
    "ax.spines[\"right\"].set_visible(False)\n",
    "ax.spines[\"top\"].set_visible(False)\n",
    "ax.tick_params(axis='both', direction='out') \n",
    "# remove unneeded ticks \n",
    "ax.get_xaxis().tick_bottom()  \n",
    "ax.get_yaxis().tick_left()\n",
    "#setting location of legend\n",
    "plt.legend(loc='right')\n",
    "plt.xlim(0,140)\n",
    "plt.show()\n"
   ]
  },
  {
   "cell_type": "markdown",
   "metadata": {},
   "source": [
    "As seen from the graph above we can say that for most features, as we are increasing lambda the values of coefficients are decreasing which is expected as lambda is the penalty paramater and the higher its value, higher would be the penalty over the features."
   ]
  }
 ],
 "metadata": {
  "anaconda-cloud": {},
  "kernelspec": {
   "display_name": "Python [conda root]",
   "language": "python",
   "name": "conda-root-py"
  },
  "language_info": {
   "codemirror_mode": {
    "name": "ipython",
    "version": 3
   },
   "file_extension": ".py",
   "mimetype": "text/x-python",
   "name": "python",
   "nbconvert_exporter": "python",
   "pygments_lexer": "ipython3",
   "version": "3.5.2"
  }
 },
 "nbformat": 4,
 "nbformat_minor": 0
}
