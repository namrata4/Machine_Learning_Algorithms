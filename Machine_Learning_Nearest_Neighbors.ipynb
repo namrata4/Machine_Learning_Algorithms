{
 "cells": [
  {
   "cell_type": "markdown",
   "metadata": {},
   "source": [
    "# Machine Learning Algorithms\n",
    "## Nearest Neighbors \n",
    "## Namrata Deshpande\n",
    "### April 07, 2017\n",
    "\n",
    "\n",
    "In this project we will implement basic Nearest Neighbors algorithms along with KNN and Cross Validation in Python from scratch.We will test the algorithm on Boston Housing Prices Dataset present in Python."
   ]
  },
  {
   "cell_type": "code",
   "execution_count": 1,
   "metadata": {
    "collapsed": false
   },
   "outputs": [
    {
     "name": "stderr",
     "output_type": "stream",
     "text": [
      "C:\\Program Files\\Anaconda3\\lib\\site-packages\\sklearn\\cross_validation.py:44: DeprecationWarning: This module was deprecated in version 0.18 in favor of the model_selection module into which all the refactored classes and functions are moved. Also note that the interface of the new CV iterators are different from that of this module. This module will be removed in 0.20.\n",
      "  \"This module will be removed in 0.20.\", DeprecationWarning)\n"
     ]
    }
   ],
   "source": [
    "import IPython\n",
    "import numpy as np\n",
    "import scipy as sp\n",
    "import pandas as pd\n",
    "import matplotlib\n",
    "import sklearn\n",
    "from sklearn.cross_validation import train_test_split"
   ]
  },
  {
   "cell_type": "markdown",
   "metadata": {},
   "source": [
    "---\n",
    "\n",
    "## Data Load and Explore\n",
    "\n",
    "We will be using the [Boston Housing Prices Data Set](http://archive.ics.uci.edu/ml/datasets/Housing). \n"
   ]
  },
  {
   "cell_type": "code",
   "execution_count": 2,
   "metadata": {
    "collapsed": false
   },
   "outputs": [],
   "source": [
    "#loading boston data\n",
    "from sklearn.datasets import load_boston\n",
    "bdata = load_boston()"
   ]
  },
  {
   "cell_type": "markdown",
   "metadata": {},
   "source": [
    "### 1.1 Shape of data:"
   ]
  },
  {
   "cell_type": "code",
   "execution_count": 4,
   "metadata": {
    "collapsed": false
   },
   "outputs": [
    {
     "name": "stdout",
     "output_type": "stream",
     "text": [
      "dict_keys(['feature_names', 'DESCR', 'target', 'data'])\n",
      "['CRIM' 'ZN' 'INDUS' 'CHAS' 'NOX' 'RM' 'AGE' 'DIS' 'RAD' 'TAX' 'PTRATIO'\n",
      " 'B' 'LSTAT']\n",
      "(506, 13)\n",
      "(506,)\n",
      "Boston House Prices dataset\n",
      "===========================\n",
      "\n",
      "Notes\n",
      "------\n",
      "Data Set Characteristics:  \n",
      "\n",
      "    :Number of Instances: 506 \n",
      "\n",
      "    :Number of Attributes: 13 numeric/categorical predictive\n",
      "    \n",
      "    :Median Value (attribute 14) is usually the target\n",
      "\n",
      "    :Attribute Information (in order):\n",
      "        - CRIM     per capita crime rate by town\n",
      "        - ZN       proportion of residential land zoned for lots over 25,000 sq.ft.\n",
      "        - INDUS    proportion of non-retail business acres per town\n",
      "        - CHAS     Charles River dummy variable (= 1 if tract bounds river; 0 otherwise)\n",
      "        - NOX      nitric oxides concentration (parts per 10 million)\n",
      "        - RM       average number of rooms per dwelling\n",
      "        - AGE      proportion of owner-occupied units built prior to 1940\n",
      "        - DIS      weighted distances to five Boston employment centres\n",
      "        - RAD      index of accessibility to radial highways\n",
      "        - TAX      full-value property-tax rate per $10,000\n",
      "        - PTRATIO  pupil-teacher ratio by town\n",
      "        - B        1000(Bk - 0.63)^2 where Bk is the proportion of blacks by town\n",
      "        - LSTAT    % lower status of the population\n",
      "        - MEDV     Median value of owner-occupied homes in $1000's\n",
      "\n",
      "    :Missing Attribute Values: None\n",
      "\n",
      "    :Creator: Harrison, D. and Rubinfeld, D.L.\n",
      "\n",
      "This is a copy of UCI ML housing dataset.\n",
      "http://archive.ics.uci.edu/ml/datasets/Housing\n",
      "\n",
      "\n",
      "This dataset was taken from the StatLib library which is maintained at Carnegie Mellon University.\n",
      "\n",
      "The Boston house-price data of Harrison, D. and Rubinfeld, D.L. 'Hedonic\n",
      "prices and the demand for clean air', J. Environ. Economics & Management,\n",
      "vol.5, 81-102, 1978.   Used in Belsley, Kuh & Welsch, 'Regression diagnostics\n",
      "...', Wiley, 1980.   N.B. Various transformations are used in the table on\n",
      "pages 244-261 of the latter.\n",
      "\n",
      "The Boston house-price data has been used in many machine learning papers that address regression\n",
      "problems.   \n",
      "     \n",
      "**References**\n",
      "\n",
      "   - Belsley, Kuh & Welsch, 'Regression diagnostics: Identifying Influential Data and Sources of Collinearity', Wiley, 1980. 244-261.\n",
      "   - Quinlan,R. (1993). Combining Instance-Based and Model-Based Learning. In Proceedings on the Tenth International Conference of Machine Learning, 236-243, University of Massachusetts, Amherst. Morgan Kaufmann.\n",
      "   - many more! (see http://archive.ics.uci.edu/ml/datasets/Housing)\n",
      "\n"
     ]
    }
   ],
   "source": [
    "#keys in bdata\n",
    "print (bdata.keys())\n",
    "#features/variables in boston data\n",
    "print (bdata.feature_names)\n",
    "#number of rows and columns in data\n",
    "print (bdata.data.shape)\n",
    "#shape of median house rates data\n",
    "print (bdata.target.shape)\n",
    "#description of the dataset\n",
    "print (bdata.DESCR)"
   ]
  },
  {
   "cell_type": "markdown",
   "metadata": {},
   "source": [
    "\n",
    "\n",
    "### 1.2: Distribution of housing prices\n",
    "\n",
    "We will create a histogram to explore the distribution of dependent variable i.e. the housing prices.\n"
   ]
  },
  {
   "cell_type": "code",
   "execution_count": 5,
   "metadata": {
    "collapsed": false
   },
   "outputs": [
    {
     "data": {
      "image/png": "[encoded data removed]",
      "text/plain": [
       "<matplotlib.figure.Figure at 0x1d4b53456a0>"
      ]
     },
     "metadata": {},
     "output_type": "display_data"
    }
   ],
   "source": [
    "%matplotlib inline  \n",
    "import matplotlib.pyplot as plt \n",
    "#matplotlib.style.use('ggplot')\n",
    "\n",
    "fig = plt.figure()\n",
    "ax = fig.add_subplot(111)\n",
    "#histogram with binwidth 1000$ and color green with no border color\n",
    "plt.hist(bdata.target ,bins = np.arange(min(bdata.target), max(bdata.target)+1,1), facecolor='g', edgecolor = \"none\")\n",
    "#removing top and right ticks\n",
    "ax.spines[\"right\"].set_visible(False)\n",
    "ax.spines[\"top\"].set_visible(False)\n",
    "#setting labels for axes and title of graph\n",
    "plt.xlabel('Median value of housing prices (1000 USD)')\n",
    "plt.ylabel('frequency')\n",
    "plt.title('Distribution of Median housing prices(in 1000$s) in Boston suburbs')\n",
    "ax.tick_params(axis='both', direction='out') \n",
    "# remove unneeded ticks \n",
    "ax.get_xaxis().tick_bottom()  \n",
    "ax.get_yaxis().tick_left()\n",
    "\n",
    "plt.show()\n"
   ]
  },
  {
   "cell_type": "markdown",
   "metadata": {},
   "source": [
    "### 1.3: Scatter plot of housing prices and crime rate\n"
   ]
  },
  {
   "cell_type": "code",
   "execution_count": 6,
   "metadata": {
    "collapsed": false
   },
   "outputs": [
    {
     "data": {
      "image/png": "[encoded data removed]",
      "text/plain": [
       "<matplotlib.figure.Figure at 0x1d4b567d160>"
      ]
     },
     "metadata": {},
     "output_type": "display_data"
    }
   ],
   "source": [
    "# converting boston data to dataframe and setting column names\n",
    "boston_df = pd.DataFrame(bdata.data)\n",
    "boston_df.columns=bdata.feature_names\n",
    "#adding median values data to the dataframe\n",
    "boston_df['MEDV']=bdata.target\n",
    "#generating scatter plot between crime rate and median house rates\n",
    "fig = plt.figure()\n",
    "ax = fig.add_subplot(111)\n",
    "plt.scatter(x=boston_df['CRIM'], y=boston_df['MEDV'])\n",
    "#removing top and right ticks\n",
    "ax.spines[\"right\"].set_visible(False)\n",
    "ax.spines[\"top\"].set_visible(False)\n",
    "ax.tick_params(axis='both', direction='out')\n",
    "# remove unneeded ticks \n",
    "ax.get_xaxis().tick_bottom()  \n",
    "ax.get_yaxis().tick_left()\n",
    "#setting axes labels and plot title\n",
    "plt.xlabel('Per capita crime rate by town in Boston')\n",
    "plt.ylabel('Median value of houses in Boston(1000USD)')\n",
    "plt.title('Crime Rate vs Median Housing values in Boston Suburbs')\n",
    "plt.show()\n"
   ]
  },
  {
   "cell_type": "markdown",
   "metadata": {},
   "source": [
    "### 1.4 Other realtionships\n",
    "\n",
    "We will create a box plot for meadian housing prices to see its distribution with respect to the lower status people and Number of rooms."
   ]
  },
  {
   "cell_type": "code",
   "execution_count": 7,
   "metadata": {
    "collapsed": false
   },
   "outputs": [
    {
     "data": {
      "image/png": "[encoded data removed]",
      "text/plain": [
       "<matplotlib.figure.Figure at 0x1d4b3b59f60>"
      ]
     },
     "metadata": {},
     "output_type": "display_data"
    }
   ],
   "source": [
    "#seperating rows with lower and higher values of LSTAT\n",
    "lowLstat= boston_df[boston_df['LSTAT']< 10.0]['MEDV']\n",
    "highLstat= boston_df[boston_df['LSTAT']>= 10.0]['MEDV']\n",
    "#seperating rows with lower and higher values of RM\n",
    "lessRM= boston_df[boston_df['RM']< 6.0]['MEDV']\n",
    "moreRM= boston_df[boston_df['RM']>= 6.0]['MEDV']\n",
    "#merging the data\n",
    "data=[lowLstat.tolist(),highLstat.tolist(), lessRM.tolist(),moreRM.tolist()]\n",
    "#plotting boxplots for the data\n",
    "figure = plt.figure(1, figsize=(11, 6))\n",
    "ax = figure.add_subplot(111)\n",
    "p = plt.boxplot(data, patch_artist=True)\n",
    "#setting fill and border color of boxes \n",
    "for box in p['boxes']:\n",
    "    box.set( color='#7570b3', linewidth=2)\n",
    "    # change fill color\n",
    "    box.set( facecolor = '#1b9e77' )\n",
    "#setting outliers' colors and size\n",
    "for flier in p['fliers']:\n",
    "    flier.set(marker='o', color='#e7298a', alpha=0.5)\n",
    "#Setting axes labels\n",
    "ax.set_xticklabels(['(lower status people <10%)', '(lower status people >10%)', 'Rooms < 6', 'Rooms > 6'])\n",
    "ax.set_ylabel('Median values of houses (1000 USD)')\n",
    "ax.get_xaxis().tick_bottom()\n",
    "ax.get_yaxis().tick_left()\n",
    "ax.tick_params(axis='both', direction='out')\n",
    "plt.ylim(0,60)\n",
    "plt.title('Distribution of median house values with respect to % of lower status people and number of rooms')\n",
    "plt.show()"
   ]
  },
  {
   "cell_type": "markdown",
   "metadata": {},
   "source": [
    "The graph above shows clear relationships between the values of percentage of lower status of people and median housing rates as well as the values of number of rooms and median housing rates. For lower status people percentage less than 10, the median of the distribution for MEDV lies at around 27 while the same for LSTAT greater than 10 is located at around 17. As medv are calculated in 1000$ this difference between the distribution is very significant and tells us that as percenatge of lower status people in the vicinity decreases, the median housing prices increases showing a negative correlation between the two.\n",
    "\n",
    "The graph also shows the relationship between average number of rooms per dwelling and the median housing rates. As the values of rooms are increasing, the median values of housing is also increasing showing a positive correlation."
   ]
  },
  {
   "cell_type": "markdown",
   "metadata": {},
   "source": [
    "## Experimental Setup\n",
    "\n",
    "In the next few sections we will design an experiment to predict the median home value for an instance in the data.\n"
   ]
  },
  {
   "cell_type": "markdown",
   "metadata": {},
   "source": [
    "### 2.1: Root Mean Square Error Calculator\n",
    "For ease of use we will create a function to calculate RMSE from actual data and predictions."
   ]
  },
  {
   "cell_type": "code",
   "execution_count": 8,
   "metadata": {
    "collapsed": false
   },
   "outputs": [],
   "source": [
    "\"\"\"\n",
    "Function\n",
    "--------\n",
    "compute_rmse\n",
    "\n",
    "Given two arrays, one of actual values and one of predicted values,\n",
    "compute the Roote Mean Squared Error\n",
    "\n",
    "Parameters\n",
    "----------\n",
    "predictions : array\n",
    "    Array of numerical values corresponding to predictions for each of the N observations\n",
    "\n",
    "yvalues : array\n",
    "    Array of numerical values corresponding to the actual values for each of the N observations\n",
    "\n",
    "Returns\n",
    "-------\n",
    "rmse : int\n",
    "    Root Mean Squared Error of the prediction\n",
    "\n",
    "Example\n",
    "-------\n",
    ">>> print compute_rmse((2,2,3),(0,2,6)\n",
    "2.08\n",
    "\"\"\"\n",
    "def compute_rmse(predictions, yvalues):\n",
    "    #applying formula= RMSE = sqrt(mean((y-yhat)^2)\n",
    "    rmse = np.sqrt(np.mean((np.subtract(yvalues,predictions))**2))\n",
    "    return rmse\n",
    "\n"
   ]
  },
  {
   "cell_type": "markdown",
   "metadata": {},
   "source": [
    "### 2.2:  Splitting the data into training and testing datasets\n",
    "\n",
    "We will randomly select 66% of the data and put this in a training dataset (\"bdata_train\"), and place the remaining 34% in a testing dataset (\"bdata_test\")\n"
   ]
  },
  {
   "cell_type": "code",
   "execution_count": 9,
   "metadata": {
    "collapsed": false
   },
   "outputs": [
    {
     "data": {
      "text/plain": [
       "(173, 14)"
      ]
     },
     "execution_count": 9,
     "metadata": {},
     "output_type": "execute_result"
    }
   ],
   "source": [
    "# setting the seed to make solution replicable again\n",
    "np.random.seed(seed=13579)\n",
    "\n",
    "# splitting data in ratio 66%:34% \n",
    "bdata_train, bdata_test = train_test_split(boston_df, test_size=0.34, random_state = 200)\n",
    "\n",
    "#shape of test data\n",
    "bdata_test.shape"
   ]
  },
  {
   "cell_type": "markdown",
   "metadata": {},
   "source": [
    "## Nearest Neighbors Algorithm\n"
   ]
  },
  {
   "cell_type": "markdown",
   "metadata": {},
   "source": [
    "### 3.1: Finding Nearest Neighbors: Distance function\n",
    "First we will create a distance metric to measure the distance between two instances.  Here we will use the L-Norm distance for this."
   ]
  },
  {
   "cell_type": "code",
   "execution_count": 10,
   "metadata": {
    "collapsed": false
   },
   "outputs": [
    {
     "name": "stdout",
     "output_type": "stream",
     "text": [
      "Computed Euclidean Distance: 5.0\n"
     ]
    }
   ],
   "source": [
    "\"\"\"\n",
    "Function\n",
    "--------\n",
    "distance\n",
    "\n",
    "Given two instances and a value for L, return the L-Norm distance between them\n",
    "\n",
    "Parameters\n",
    "----------\n",
    "x1, x2 : array\n",
    "    Array of numerical values corresponding to predictions for each of the N observations\n",
    "\n",
    "L: int\n",
    "    Value of L to use in computing distances\n",
    "\n",
    "Returns\n",
    "-------\n",
    "dist : int\n",
    "    The L-norm distance between instances\n",
    "\n",
    "Example\n",
    "-------\n",
    ">>> print distance((3,4),(6,8),2)\n",
    "7\n",
    "\n",
    "\"\"\"\n",
    "def distance(x1, x2, L):\n",
    "    dist =0;\n",
    "    for i in range(0,len(x1)):\n",
    "        dist=dist + (x1[i]-x2[i])**L\n",
    "    dist=(dist)**(1/L)\n",
    "    return dist\n",
    "#calculating euclidean distance\n",
    "Euc_dist = distance((3,4),(6,8),2)\n",
    "print('Computed Euclidean Distance:',Euc_dist)"
   ]
  },
  {
   "cell_type": "markdown",
   "metadata": {},
   "source": [
    "### 3.2 Basic Nearest Neighbor algorithm\n",
    "\n",
    "Next we will implement a basic nearest neighbor algorithm from scratch.  Our model will use training data, test data and the variables to use in model creation (args).  \n",
    "\n",
    "We will use the training data (bdata_train) to \"fit\" the model. Then we will write a function that predicts, for each instance in the testing data (bdata_test), the median home value using the nearest neighbor algorithm.  For this, we can simply compare the test instance to every instance in the training set, and return the MEDV value of the closest training instance. The function will take L as an input, where L is passed to the distance function.\n",
    "\n",
    "We will then compute the RMSE for the Nearest Neighbor predictions on the test set, using the Euclidean distance."
   ]
  },
  {
   "cell_type": "code",
   "execution_count": 11,
   "metadata": {
    "collapsed": false
   },
   "outputs": [],
   "source": [
    "\"\"\"\n",
    "Function\n",
    "--------\n",
    "getDistances\n",
    "\n",
    "Given training set and test instance, compute the distance for \n",
    "each training instance and return sorted distances\n",
    "\n",
    "Parameters\n",
    "----------\n",
    "train_set : dataframe\n",
    "    Dataframe with values for different explanatory variables\n",
    "\n",
    "test_instance : list/array\n",
    "    Array of numerical values corresponding to one instance from the test dataset\n",
    "\n",
    "L : int\n",
    "    Value to be used in distance function\n",
    "\n",
    "Returns\n",
    "-------\n",
    "distances : Series\n",
    "    Sorted distances in ascending order\n",
    "\n",
    "\"\"\"\n",
    "def getDistances(train_set, testInstance, L):\n",
    "    #calculating distance for each training instance\n",
    "    distances = train_set.apply(lambda row: distance(row,testInstance,L),axis=1)\n",
    "    #sorting distances\n",
    "    distances = distances.sort_values()\n",
    "    return distances\n",
    "\n"
   ]
  },
  {
   "cell_type": "code",
   "execution_count": 12,
   "metadata": {
    "collapsed": true
   },
   "outputs": [],
   "source": [
    "\"\"\"\n",
    "Function\n",
    "--------\n",
    "nneighbor\n",
    "\n",
    "Given training set and test sets and list of explanatory variables to use, predict the values of MEDV\n",
    "using nearest neighbor algorithm and compute the RMSE for all predictions\n",
    "\n",
    "Parameters\n",
    "----------\n",
    "train : dataframe\n",
    "    Dataframe with training values\n",
    "\n",
    "test : dataframe\n",
    "    Dataframe with test values\n",
    "\n",
    "args : List\n",
    "    List of explanatory variables to be used in fitting the model\n",
    "\n",
    "L : int\n",
    "    Value to be used in distance function\n",
    "\n",
    "Returns\n",
    "-------\n",
    "rmse : int\n",
    "    Computed Root Mean Square error for the predictions\n",
    "\"\"\"\n",
    "import time\n",
    "def nneighbor(train, test, args, L):\n",
    "    predictions =[]\n",
    "    #seperating dependent variable\n",
    "    train_medv=train['MEDV']\n",
    "    test_medv=test['MEDV']\n",
    "    #selecting only explanatory variables given as arguments\n",
    "    train=train.loc[:,args]\n",
    "    test=test.loc[:,args]\n",
    "    for i in range(0,len(test)):\n",
    "        x1=test.iloc[i].values\n",
    "        #finding distance of test instance from each training set instance\n",
    "        distances = getDistances(train, x1,L)\n",
    "        predictions.append(train_medv.ix[distances.index[0]])\n",
    "    #computing rmse for predictions and actual test medv values\n",
    "    rmse=compute_rmse(predictions, test_medv)\n",
    "    return rmse"
   ]
  },
  {
   "cell_type": "markdown",
   "metadata": {},
   "source": [
    "We will now test our algorithm on the boston data using two features : Crime Rate and Number of Rooms."
   ]
  },
  {
   "cell_type": "code",
   "execution_count": 13,
   "metadata": {
    "collapsed": false
   },
   "outputs": [
    {
     "name": "stdout",
     "output_type": "stream",
     "text": [
      "Calculated RSME by simple nearest neighbour algorithm= 7.82374110356\n"
     ]
    }
   ],
   "source": [
    "#calculating rmse\n",
    "rmse = nneighbor(bdata_train, bdata_test,['CRIM','RM'],2)\n",
    "print(\"Calculated RSME by simple nearest neighbour algorithm=\", rmse)"
   ]
  },
  {
   "cell_type": "markdown",
   "metadata": {},
   "source": [
    "### 3.3 Normalization\n",
    "\n",
    "We know that with Nearest Neighbor algorithms, we have to normalize the data to remove over representation of some features.  Hence, we will write a generic normalization function that takes as input an array of values for a given feature, and returns the normalized array (subtract the mean and divide by the standard deviation).\n",
    "\n",
    "Then we will re-run the Nearest Neighbor algorithm on the normalized dataset (still just using CRIM and RM as input), and compare the RMSE from this method with your previous RMSE evaluations.\n"
   ]
  },
  {
   "cell_type": "code",
   "execution_count": 14,
   "metadata": {
    "collapsed": false
   },
   "outputs": [],
   "source": [
    "\"\"\"\n",
    "Function\n",
    "--------\n",
    "normalize\n",
    "\n",
    "Given an array normalize all its values by substracting mean and dividing by standard deviation\n",
    "\n",
    "Parameters\n",
    "----------\n",
    "raw_data : array\n",
    "    Array of numerical values to be normalized\n",
    "    \n",
    "Returns\n",
    "-------\n",
    "normalized_data : array\n",
    "    Normalized array of numeric values\n",
    "\n",
    "\"\"\"\n",
    "def normalize(raw_data):\n",
    "    #calculate mean of array\n",
    "    mean = np.mean(raw_data)\n",
    "    #calculate standard deviation\n",
    "    std = np.std(raw_data)\n",
    "    normalized_data=[]\n",
    "    #normalize all datapoints\n",
    "    for i in raw_data:\n",
    "        normalized_data.append(((i-mean)/(std)))\n",
    "    return normalized_data\n",
    "\n",
    "\n",
    "\"\"\"\n",
    "Function\n",
    "--------\n",
    "normalize_df\n",
    "\n",
    "Given a dataframe with different numeric columns normalize all columns except MEDV\n",
    " by substracting mean and dividing by standard deviation\n",
    "\n",
    "Parameters\n",
    "----------\n",
    "df : dataframe\n",
    "    Dataframe with numeric columns\n",
    "    \n",
    "Returns\n",
    "-------\n",
    "df : dataframe\n",
    "    Normalized dataframe \n",
    "\n",
    "\"\"\"\n",
    "def normalize_df(df):\n",
    "    for column in df:\n",
    "        #normalize all columns except MEDV\n",
    "        if (column !=\"MEDV\"):\n",
    "            df[column]=normalize(df[column])\n",
    "    return df"
   ]
  },
  {
   "cell_type": "code",
   "execution_count": 15,
   "metadata": {
    "collapsed": false
   },
   "outputs": [
    {
     "data": {
      "text/html": [
       "<div>\n",
       "<table border=\"1\" class=\"dataframe\">\n",
       "  <thead>\n",
       "    <tr style=\"text-align: right;\">\n",
       "      <th></th>\n",
       "      <th>CRIM</th>\n",
       "      <th>RM</th>\n",
       "      <th>MEDV</th>\n",
       "    </tr>\n",
       "  </thead>\n",
       "  <tbody>\n",
       "    <tr>\n",
       "      <th>153</th>\n",
       "      <td>-0.151351</td>\n",
       "      <td>-0.870959</td>\n",
       "      <td>19.4</td>\n",
       "    </tr>\n",
       "    <tr>\n",
       "      <th>121</th>\n",
       "      <td>-0.413270</td>\n",
       "      <td>-0.426736</td>\n",
       "      <td>20.3</td>\n",
       "    </tr>\n",
       "    <tr>\n",
       "      <th>235</th>\n",
       "      <td>-0.380642</td>\n",
       "      <td>-0.303257</td>\n",
       "      <td>24.0</td>\n",
       "    </tr>\n",
       "    <tr>\n",
       "      <th>489</th>\n",
       "      <td>-0.399185</td>\n",
       "      <td>-1.315182</td>\n",
       "      <td>7.0</td>\n",
       "    </tr>\n",
       "    <tr>\n",
       "      <th>127</th>\n",
       "      <td>-0.389631</td>\n",
       "      <td>-0.895053</td>\n",
       "      <td>16.2</td>\n",
       "    </tr>\n",
       "  </tbody>\n",
       "</table>\n",
       "</div>"
      ],
      "text/plain": [
       "         CRIM        RM  MEDV\n",
       "153 -0.151351 -0.870959  19.4\n",
       "121 -0.413270 -0.426736  20.3\n",
       "235 -0.380642 -0.303257  24.0\n",
       "489 -0.399185 -1.315182   7.0\n",
       "127 -0.389631 -0.895053  16.2"
      ]
     },
     "execution_count": 15,
     "metadata": {},
     "output_type": "execute_result"
    }
   ],
   "source": [
    "#take out only useful columns from train dataframe\n",
    "bdata_train_normalize = bdata_train[['CRIM','RM','MEDV']].copy()\n",
    "#normalize the train data\n",
    "bdata_train_normalize = normalize_df(bdata_train_normalize)\n",
    "#take out only useful columns from test dataframe\n",
    "bdata_test_normalize = bdata_test[['CRIM','RM','MEDV']].copy()\n",
    "#normalize the test data\n",
    "bdata_test_normalize = normalize_df(bdata_test_normalize)\n",
    "#first 5 observations of normalized test data\n",
    "bdata_train_normalize.head()\n"
   ]
  },
  {
   "cell_type": "code",
   "execution_count": 16,
   "metadata": {
    "collapsed": false
   },
   "outputs": [
    {
     "name": "stdout",
     "output_type": "stream",
     "text": [
      "RMSE after normalization of data= 9.69317142396\n"
     ]
    }
   ],
   "source": [
    "#calculate RMSE for normalized data using CRIM and RM as explanatory variables and L=2\n",
    "rmse_normalize = nneighbor(bdata_train_normalize, bdata_test_normalize,['CRIM','RM'],2)\n",
    "print(\"RMSE after normalization of data=\",rmse_normalize)"
   ]
  },
  {
   "cell_type": "markdown",
   "metadata": {},
   "source": [
    "The RMSE after normalization is greater than the previous value. The normalized RMSE is more towards the true value as it considers the relative values of explanatory variables and hence deviation of error due to larger variables is not there in normalized error."
   ]
  },
  {
   "cell_type": "markdown",
   "metadata": {},
   "source": [
    "### 3.4 Optimization\n",
    " We will now try to increase the performance of our nearest neighbor algorithm by adding more features and by using different values of L in the distance function.  "
   ]
  },
  {
   "cell_type": "code",
   "execution_count": 17,
   "metadata": {
    "collapsed": false
   },
   "outputs": [],
   "source": [
    "#copy the train data\n",
    "train_norm = bdata_train.copy()\n",
    "#normalizing the columns\n",
    "train_norm = normalize_df(train_norm)\n",
    "\n",
    "#copy the test data\n",
    "test_norm = bdata_test.copy()\n",
    "#normalizing the columns\n",
    "test_norm = normalize_df(test_norm)\n"
   ]
  },
  {
   "cell_type": "code",
   "execution_count": 18,
   "metadata": {
    "collapsed": false
   },
   "outputs": [
    {
     "name": "stdout",
     "output_type": "stream",
     "text": [
      "RMSE for model with LSTAT and TAX and L =2:  6.84810424803\n",
      "RMSE for model with Crim, RM and TAX and L =3:  8.76395666444\n",
      "RMSE for model with Crim, RM, TAX, LSTAT and L =2:  5.66135872905\n",
      "RMSE for model with TAX, RM and LSTAT and L =2:  5.58143081496\n"
     ]
    }
   ],
   "source": [
    "#crim, rm, tax, L=2\n",
    "rmse2= nneighbor(train_norm, test_norm, ['LSTAT','TAX'],2)\n",
    "print(\"RMSE for model with LSTAT and TAX and L =2: \", rmse2)\n",
    "\n",
    "#crim, rm, tax, L=3\n",
    "rmse3= nneighbor(train_norm, test_norm, ['CRIM','RM','TAX'],3)\n",
    "print(\"RMSE for model with Crim, RM and TAX and L =3: \", rmse3)\n",
    "\n",
    "#crim, rm,tax, indus, L=2\n",
    "rmse4= nneighbor(train_norm, test_norm, ['CRIM','RM','TAX', 'LSTAT'],2)\n",
    "print(\"RMSE for model with Crim, RM, TAX, LSTAT and L =2: \", rmse4)\n",
    "\n",
    "#crim, rm,tax, lstat, L=2\n",
    "rmse2= nneighbor(train_norm, test_norm, ['TAX','RM','LSTAT'],2)\n",
    "print(\"RMSE for model with TAX, RM and LSTAT and L =2: \", rmse2)"
   ]
  },
  {
   "cell_type": "markdown",
   "metadata": {},
   "source": [
    "As seen from the observations above we find that the lowest RMSE is by using TAX, RM and LSTAT as features and  L as 2. This was expected as in section 1.3 we have seen the strong relationships between LSTAT and RM with MEDV. As we are increasing the features and value of L the time taken by the algorithm is also increasing. So we have to find a optimize solution that gives low error but is also time efficient. The last model with three features (Tax, RM, LSTAT) with L =2 is found to be most efficient and accurate among all others tested above."
   ]
  },
  {
   "cell_type": "markdown",
   "metadata": {},
   "source": [
    "### 3.5 Cross-Validation\n",
    "\n",
    "To prevent overfitting, we will use cross-validation to find optimal values.  Here we will implement a simple k-fold cross-validation algorithm. \n",
    "\n",
    "Then we will use 10-fold cross-validation to report the average RMSE for Nearest Neighbors using Euclidean distance with CRIM and RM input features. "
   ]
  },
  {
   "cell_type": "code",
   "execution_count": 25,
   "metadata": {
    "collapsed": false
   },
   "outputs": [],
   "source": [
    "\"\"\"\n",
    "Function\n",
    "--------\n",
    "kfoldCV\n",
    "\n",
    "Given data and algorithm perform k fold cross-validation and compute RMSE\n",
    "\n",
    "Parameters\n",
    "----------\n",
    "data : dataframe\n",
    "    Dataframe with complete set of data with explanatory and dependent variables\n",
    "\n",
    "args : array/List\n",
    "    list of features' names that are to be passed to model as explanatory variables\n",
    "\n",
    "k : int\n",
    "    number of folds in k fold CV\n",
    "\n",
    "algo: function\n",
    "    The algorithm/model to be used for computing k-fold CV\n",
    "    \n",
    "K: int\n",
    "    value of nearest neighbors to be used when using K nearest neighbor algorithm\n",
    "\n",
    "L : int\n",
    "    value passed to distance fuction to calculated L-norm distance\n",
    "\n",
    "Returns\n",
    "-------\n",
    "rmse : int\n",
    "    Average Root Mean Squared Error of the prediction for all folds\n",
    "\n",
    "\"\"\"\n",
    "\n",
    "def kfoldCV(data, args, k, algo, K, L):\n",
    "    start_time = time.time()\n",
    "    #randomly shuffle the data for random sampling\n",
    "    df = data.sample(frac=1, random_state=200)\n",
    "    #split the data into k equal parts\n",
    "    split_data=np.array_split(df,k)\n",
    "    rmse_all=[]\n",
    "    #shortform for quick processing\n",
    "    append = rmse_all.append\n",
    "    for i in range(0,k):\n",
    "        #take one part as test\n",
    "        test_df=split_data[i]\n",
    "        #use remaining parts as training\n",
    "        indx = df.index.isin(split_data[i].index)\n",
    "        train_df= df[~indx]\n",
    "        #apply appropriate algorithm\n",
    "        if (algo==nneighbor):\n",
    "            rmse = algo(train_df,test_df,args,L)\n",
    "        elif (algo==knn):\n",
    "            rmse = algo(train_df,test_df,args,L,K)\n",
    "        #append rmse for this fold\n",
    "        append(rmse)\n",
    "    #print (\"Time taken for running all folds: \" + str(round(time.time() - start_time,2)) + \" seconds\")\n",
    "    #return mean of rmse for all folds\n",
    "    return np.mean(rmse_all)"
   ]
  },
  {
   "cell_type": "code",
   "execution_count": 20,
   "metadata": {
    "collapsed": false
   },
   "outputs": [
    {
     "name": "stdout",
     "output_type": "stream",
     "text": [
      "Time taken for running all folds: 22.31 seconds\n",
      "Calculated average RMSE by k-fold CV:  6.640171804\n"
     ]
    }
   ],
   "source": [
    "#computing average rmse using 10 fold cross validation on nneighbor algorithm with L=2\n",
    "rmse_cv = kfoldCV(boston_df, ['CRIM','RM'],10,nneighbor,0,2)\n",
    "print('Calculated average RMSE by k-fold CV: ', rmse_cv)\n"
   ]
  },
  {
   "cell_type": "markdown",
   "metadata": {},
   "source": [
    "### 3.6 K-Nearest Neighbors Algorithm\n",
    "\n",
    "Now we are ready to implement the K-Nearest Neighbors algorithm.  Then using 10-fold cross validation, we will find the RMSE for K=3."
   ]
  },
  {
   "cell_type": "code",
   "execution_count": 21,
   "metadata": {
    "collapsed": true
   },
   "outputs": [],
   "source": [
    "import operator\n",
    "\"\"\"\n",
    "Function\n",
    "--------\n",
    "findKNeighbors\n",
    "\n",
    "Given train dataset and test instance, calculate distance \n",
    "and find the nearest K instances and return the MEDV values for these nearest neighbors\n",
    "\n",
    "Parameters\n",
    "----------\n",
    "train_data : dataframe\n",
    "    dataframe with train data with only the explanatory variables and MEDV present\n",
    "\n",
    "test_record : array\n",
    "    Array of numerical values for one instance of test data\n",
    "\n",
    "L : int\n",
    "    Value to be passed to distance function to compute L-norm distance\n",
    "\n",
    "K : int\n",
    "    value for number of nearest neighbors to be returned\n",
    "\n",
    "Returns\n",
    "-------\n",
    "neighbors : Series\n",
    "   Series with MEDV values of K nearest neighbors of test instance\n",
    "\n",
    "\"\"\"\n",
    "def findKNeighbors(train_data, test_record, L, K):\n",
    "    #take out the dependent variable from train data\n",
    "    train_medv=train_data['MEDV']\n",
    "    train_data= train_data.drop('MEDV', axis=1)\n",
    "    #calculate distance for each instance of train data\n",
    "    distances = train_data.apply(lambda row: distance(row,test_record,L),axis=1)\n",
    "    #sort the distances in ascending order\n",
    "    distances = distances.sort_values()\n",
    "    #take MEDV values for the first K distnaces\n",
    "    neighbors = train_medv[distances.index[0:K]]\n",
    "    return neighbors\n"
   ]
  },
  {
   "cell_type": "code",
   "execution_count": 22,
   "metadata": {
    "collapsed": false
   },
   "outputs": [],
   "source": [
    "\"\"\"\n",
    "Function\n",
    "--------\n",
    "knn\n",
    "\n",
    "Given train dataset and test dataset, predict the values of MEDV for\n",
    "test data using k nearest neighbor and calculate RMSE\n",
    "\n",
    "Parameters\n",
    "----------\n",
    "train : dataframe\n",
    "    dataframe with train data with all features present\n",
    "\n",
    "test : dataframe\n",
    "    dataframe with test data with all features present\n",
    "    \n",
    "args : List\n",
    "    List with names of explanatory variables/features to be used in model\n",
    "\n",
    "L : int\n",
    "    Value to be passed to distance function to compute L-norm distance\n",
    "\n",
    "K : int\n",
    "    value for number of nearest neighbors to be used\n",
    "\n",
    "Returns\n",
    "-------\n",
    "rmse : float\n",
    "   Root mean square error for the predictions\n",
    "\n",
    "\"\"\"\n",
    "def knn(train,test,args, L, K):\n",
    "    #take out dependent variable\n",
    "    test_medv = test['MEDV']\n",
    "    #keeping only features passed as argument\n",
    "    train_data=train.loc[:,args]\n",
    "    train_data['MEDV']= train['MEDV']\n",
    "    test=test.loc[:,args]\n",
    "    predictions=[]\n",
    "    append = predictions.append\n",
    "    for i in range(len(test)):\n",
    "        x1 =test.iloc[i].values\n",
    "        #find MEDV values for K nearest neighbors \n",
    "        neighbors=findKNeighbors(train_data,x1,L,K)\n",
    "        #predict test MEDV by taking mean of neighbor values\n",
    "        append(np.mean(neighbors))\n",
    "    #compute RMSE for all predictions\n",
    "    rmse = compute_rmse(predictions,test_medv)\n",
    "    return rmse\n"
   ]
  },
  {
   "cell_type": "code",
   "execution_count": 23,
   "metadata": {
    "collapsed": false
   },
   "outputs": [
    {
     "name": "stdout",
     "output_type": "stream",
     "text": [
      "Time taken for running all folds: 23.4 seconds\n",
      "RMSE for 10-fold CV using k nearest neighbor with K=3:  5.72148790993\n"
     ]
    }
   ],
   "source": [
    "#compute rmse using 10-fold CV using knn algorithm with CRIM and RM features\n",
    "#take K=3 and L=2\n",
    "rmse_cv = kfoldCV(boston_df,['CRIM','RM'], 10,knn,3,2)\n",
    "print('RMSE for 10-fold CV using k nearest neighbor with K=3: ', rmse_cv)"
   ]
  },
  {
   "cell_type": "markdown",
   "metadata": {},
   "source": [
    "### 3.7 Using cross validation to find K\n",
    "\n",
    "What is the best choice of K?  To find this we will compute the RMSE for values of K between 1 and 25 using 10-fold cross-validation.  We will use the following features in the model, after normalization: CRIM, ZN, RM, AGE, DIS, TAX.  "
   ]
  },
  {
   "cell_type": "code",
   "execution_count": 26,
   "metadata": {
    "collapsed": false
   },
   "outputs": [],
   "source": [
    "#normalizing the data\n",
    "boston_df_norm = normalize_df(boston_df.copy())\n",
    "rmse_all =[]\n",
    "append = rmse_all.append\n",
    "#values of K from 1 to 25\n",
    "K=list(range(1,26))\n",
    "#features to be used for model\n",
    "args = ['CRIM','ZN','RM','AGE','DIS','TAX']\n",
    "#run 10 fold CV for all values of K\n",
    "for i in range(1,26):\n",
    "    append(kfoldCV(boston_df_norm, args, 10, knn, i, 2))\n",
    "\n",
    "\n"
   ]
  },
  {
   "cell_type": "code",
   "execution_count": 27,
   "metadata": {
    "collapsed": false
   },
   "outputs": [
    {
     "data": {
      "text/plain": [
       "4"
      ]
     },
     "execution_count": 27,
     "metadata": {},
     "output_type": "execute_result"
    }
   ],
   "source": [
    "#best value of K where rmse is minimum\n",
    "K[rmse_all.index(min(rmse_all))]\n"
   ]
  },
  {
   "cell_type": "code",
   "execution_count": 28,
   "metadata": {
    "collapsed": false
   },
   "outputs": [
    {
     "data": {
      "image/png": "[encoded data removed]",
      "text/plain": [
       "<matplotlib.figure.Figure at 0x1d4b4f79400>"
      ]
     },
     "metadata": {},
     "output_type": "display_data"
    }
   ],
   "source": [
    "#plotting K and rmse\n",
    "fig = plt.figure()\n",
    "ax = fig.add_subplot(111)\n",
    "plt.plot(K,rmse_all, linewidth=2.0)\n",
    "#remove top and right axes\n",
    "ax.spines[\"right\"].set_visible(False)\n",
    "ax.spines[\"top\"].set_visible(False)\n",
    "ax.tick_params(axis='both', direction='out')\n",
    "# remove unneeded ticks \n",
    "ax.get_xaxis().tick_bottom()  \n",
    "ax.get_yaxis().tick_left()\n",
    "#setting axes labels and plot title\n",
    "plt.xlabel('Values of K for K nearest neigbor algorithm')\n",
    "plt.ylabel('Root Mean Square Error ')\n",
    "plt.title('RMSE vs K for  K nearest neigbor algorithm using 10-fold CV')\n",
    "plt.show()\n",
    "\n"
   ]
  },
  {
   "cell_type": "markdown",
   "metadata": {},
   "source": [
    "The above figure and observations tells us that the most optimum value of K for K-nearest neighbor algorithm with 10-fold CV and using 'CRIM','ZN','RM','AGE','DIS','TAX' as features is 4. According to the figure the RMSE forst decreases while increasing K until it reaches its minimum value at K=4, after which it started increasing again almost linearly. So, for the current data and features, K=4 is the best value to be used."
   ]
  },
  {
   "cell_type": "markdown",
   "metadata": {},
   "source": [
    "*This project was done as a part of Data Science Specialization at University of Washington Information School*"
   ]
  }
 ],
 "metadata": {
  "anaconda-cloud": {},
  "kernelspec": {
   "display_name": "Python [default]",
   "language": "python",
   "name": "python3"
  },
  "language_info": {
   "codemirror_mode": {
    "name": "ipython",
    "version": 3
   },
   "file_extension": ".py",
   "mimetype": "text/x-python",
   "name": "python",
   "nbconvert_exporter": "python",
   "pygments_lexer": "ipython3",
   "version": "3.5.2"
  }
 },
 "nbformat": 4,
 "nbformat_minor": 0
}
